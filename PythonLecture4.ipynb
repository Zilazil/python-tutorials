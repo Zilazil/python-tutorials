{
 "cells": [
  {
   "cell_type": "markdown",
   "id": "29ddd1f9",
   "metadata": {},
   "source": [
    "# Python Course / AI CLUB / Syrian Computer Society"
   ]
  },
  {
   "cell_type": "markdown",
   "id": "692cbd39",
   "metadata": {},
   "source": [
    "## Numpy"
   ]
  },
  {
   "cell_type": "markdown",
   "id": "1301b42c",
   "metadata": {},
   "source": [
    "### numpy is a library for scientific computing"
   ]
  },
  {
   "cell_type": "code",
   "execution_count": 2,
   "id": "269296a1",
   "metadata": {},
   "outputs": [],
   "source": [
    "import numpy as np"
   ]
  },
  {
   "cell_type": "code",
   "execution_count": 2,
   "id": "6240f6e3",
   "metadata": {},
   "outputs": [
    {
     "name": "stdout",
     "output_type": "stream",
     "text": [
      "[0 1 2 3 4 5]\n",
      "<class 'numpy.ndarray'>\n"
     ]
    }
   ],
   "source": [
    "x=np.array([0,1,2,3,4,5])\n",
    "print(x)\n",
    "print(type(x))"
   ]
  },
  {
   "cell_type": "code",
   "execution_count": 3,
   "id": "0d92c320",
   "metadata": {},
   "outputs": [
    {
     "name": "stdout",
     "output_type": "stream",
     "text": [
      "[0.  1.2 2.  3.  4.8 5. ]\n",
      "<class 'numpy.ndarray'>\n"
     ]
    }
   ],
   "source": [
    "y=np.array([0,1.2,2,3,4.8,5])\n",
    "print(y)\n",
    "print(type(y))"
   ]
  },
  {
   "cell_type": "code",
   "execution_count": 4,
   "id": "20a36afb",
   "metadata": {},
   "outputs": [
    {
     "name": "stdout",
     "output_type": "stream",
     "text": [
      "float64\n"
     ]
    }
   ],
   "source": [
    "print(y.dtype)"
   ]
  },
  {
   "cell_type": "code",
   "execution_count": 5,
   "id": "aaab15e7",
   "metadata": {},
   "outputs": [
    {
     "name": "stdout",
     "output_type": "stream",
     "text": [
      "6\n"
     ]
    }
   ],
   "source": [
    "print(y.size)"
   ]
  },
  {
   "cell_type": "code",
   "execution_count": 6,
   "id": "12e80647",
   "metadata": {},
   "outputs": [
    {
     "name": "stdout",
     "output_type": "stream",
     "text": [
      "1\n"
     ]
    }
   ],
   "source": [
    "y1=np.array([])\n",
    "print(y1.ndim)"
   ]
  },
  {
   "cell_type": "code",
   "execution_count": 7,
   "id": "15e9f948",
   "metadata": {},
   "outputs": [
    {
     "name": "stdout",
     "output_type": "stream",
     "text": [
      "(6,)\n"
     ]
    }
   ],
   "source": [
    "print(y.shape)"
   ]
  },
  {
   "cell_type": "code",
   "execution_count": 8,
   "id": "9a103680",
   "metadata": {},
   "outputs": [
    {
     "name": "stdout",
     "output_type": "stream",
     "text": [
      "int32\n"
     ]
    }
   ],
   "source": [
    "z=np.array([5,6,8])\n",
    "print(z.dtype)"
   ]
  },
  {
   "cell_type": "markdown",
   "id": "88b26c8e",
   "metadata": {},
   "source": [
    "## indexing and slicing methods"
   ]
  },
  {
   "cell_type": "code",
   "execution_count": 16,
   "id": "043e023a",
   "metadata": {},
   "outputs": [
    {
     "name": "stdout",
     "output_type": "stream",
     "text": [
      "[0 2 3 4 5 6]\n"
     ]
    }
   ],
   "source": [
    "a=np.array([1,2,3,4,5,6])\n",
    "a[0]=0\n",
    "print(a)"
   ]
  },
  {
   "cell_type": "code",
   "execution_count": 17,
   "id": "0a5f797c",
   "metadata": {},
   "outputs": [
    {
     "name": "stdout",
     "output_type": "stream",
     "text": [
      "[0 1 2 3]\n"
     ]
    }
   ],
   "source": [
    "b=np.array([0,1,2,3,4,5])\n",
    "print(b[0:4])"
   ]
  },
  {
   "cell_type": "code",
   "execution_count": 18,
   "id": "43bb4e39",
   "metadata": {},
   "outputs": [
    {
     "name": "stdout",
     "output_type": "stream",
     "text": [
      "[1 1 1 1 4 5]\n"
     ]
    }
   ],
   "source": [
    "b[0:4]=[1,1,1,1]\n",
    "print(b)"
   ]
  },
  {
   "cell_type": "markdown",
   "id": "f6566056",
   "metadata": {},
   "source": [
    "## Basic Operations"
   ]
  },
  {
   "cell_type": "markdown",
   "id": "dc906da3",
   "metadata": {},
   "source": [
    "## vectors"
   ]
  },
  {
   "cell_type": "code",
   "execution_count": 20,
   "id": "34ac1bdc",
   "metadata": {},
   "outputs": [
    {
     "name": "stdout",
     "output_type": "stream",
     "text": [
      "[2 3 5]\n"
     ]
    }
   ],
   "source": [
    "u1=np.array([1,1,2])\n",
    "v1=np.array([1,2,3])\n",
    "z=u1+v1\n",
    "print(z)"
   ]
  },
  {
   "cell_type": "code",
   "execution_count": 21,
   "id": "85dd274f",
   "metadata": {},
   "outputs": [
    {
     "name": "stdout",
     "output_type": "stream",
     "text": [
      "[ 0 -1 -1]\n"
     ]
    }
   ],
   "source": [
    "u1=np.array([1,1,2])\n",
    "v1=np.array([1,2,3])\n",
    "z=u1-v1\n",
    "print(z)"
   ]
  },
  {
   "cell_type": "markdown",
   "id": "99c430d1",
   "metadata": {},
   "source": [
    "## multiplication with a scalar value"
   ]
  },
  {
   "cell_type": "code",
   "execution_count": 22,
   "id": "053b68b6",
   "metadata": {},
   "outputs": [
    {
     "name": "stdout",
     "output_type": "stream",
     "text": [
      "[2 4 2]\n"
     ]
    }
   ],
   "source": [
    "a=np.array([1,2,1])\n",
    "b=2*a\n",
    "print(b)"
   ]
  },
  {
   "cell_type": "markdown",
   "id": "4f305675",
   "metadata": {},
   "source": [
    "## dot product"
   ]
  },
  {
   "cell_type": "code",
   "execution_count": 24,
   "id": "f77f9548",
   "metadata": {},
   "outputs": [
    {
     "name": "stdout",
     "output_type": "stream",
     "text": [
      "2\n"
     ]
    }
   ],
   "source": [
    "u=np.array([1,2,0])\n",
    "v=np.array([0,1,0])\n",
    "dot_p=np.dot(u,v)\n",
    "print(dot_p)"
   ]
  },
  {
   "cell_type": "code",
   "execution_count": 3,
   "id": "9791164b",
   "metadata": {},
   "outputs": [
    {
     "name": "stdout",
     "output_type": "stream",
     "text": [
      "[[ 1  1 -1]\n",
      " [ 5  2  2]\n",
      " [ 3  3  0]]\n"
     ]
    }
   ],
   "source": [
    "a=np.array([[1,1,-1],[5,2,2],[3,3,0]])\n",
    "print(a)"
   ]
  },
  {
   "cell_type": "code",
   "execution_count": 4,
   "id": "369d638d",
   "metadata": {},
   "outputs": [
    {
     "name": "stdout",
     "output_type": "stream",
     "text": [
      "int32\n"
     ]
    }
   ],
   "source": [
    "print(a.dtype)"
   ]
  },
  {
   "cell_type": "code",
   "execution_count": 5,
   "id": "1679fd9a",
   "metadata": {},
   "outputs": [
    {
     "name": "stdout",
     "output_type": "stream",
     "text": [
      "9\n"
     ]
    }
   ],
   "source": [
    "print(a.size)"
   ]
  },
  {
   "cell_type": "code",
   "execution_count": 6,
   "id": "c11756ed",
   "metadata": {},
   "outputs": [
    {
     "name": "stdout",
     "output_type": "stream",
     "text": [
      "2\n"
     ]
    }
   ],
   "source": [
    "print(a.ndim)"
   ]
  },
  {
   "cell_type": "code",
   "execution_count": 7,
   "id": "7fba364d",
   "metadata": {},
   "outputs": [
    {
     "name": "stdout",
     "output_type": "stream",
     "text": [
      "(3, 3)\n"
     ]
    }
   ],
   "source": [
    "print(a.shape)"
   ]
  },
  {
   "cell_type": "code",
   "execution_count": 8,
   "id": "e36a60f2",
   "metadata": {},
   "outputs": [
    {
     "name": "stdout",
     "output_type": "stream",
     "text": [
      "[[0 1 2 5]\n",
      " [1 2 0 3]\n",
      " [1 1 4 0]]\n"
     ]
    }
   ],
   "source": [
    "b=np.array([[0,1,2,5],[1,2,0,3],[1,1,4,0]])\n",
    "print(b)"
   ]
  },
  {
   "cell_type": "code",
   "execution_count": 9,
   "id": "310a0db2",
   "metadata": {},
   "outputs": [
    {
     "name": "stdout",
     "output_type": "stream",
     "text": [
      "[0 4]\n"
     ]
    }
   ],
   "source": [
    "s=b[1:3,2]\n",
    "print(s)"
   ]
  },
  {
   "cell_type": "code",
   "execution_count": 11,
   "id": "8ea6e21b",
   "metadata": {},
   "outputs": [
    {
     "name": "stdout",
     "output_type": "stream",
     "text": [
      "[[10 10]\n",
      " [19 26]]\n"
     ]
    }
   ],
   "source": [
    "g=np.array([[1,2],[4,1]])\n",
    "h=np.array([[4,6],[3,2]])\n",
    "z=np.dot(g,h)\n",
    "print(z)"
   ]
  },
  {
   "cell_type": "code",
   "execution_count": 13,
   "id": "71ebeac4",
   "metadata": {},
   "outputs": [
    {
     "name": "stdout",
     "output_type": "stream",
     "text": [
      "5\n",
      "3.0\n"
     ]
    }
   ],
   "source": [
    "x=np.array([1,5,3])\n",
    "print(x.max())\n",
    "print(x.mean())"
   ]
  },
  {
   "cell_type": "code",
   "execution_count": null,
   "id": "cfad2a6d",
   "metadata": {},
   "outputs": [],
   "source": []
  }
 ],
 "metadata": {
  "kernelspec": {
   "display_name": "Python 3 (ipykernel)",
   "language": "python",
   "name": "python3"
  },
  "language_info": {
   "codemirror_mode": {
    "name": "ipython",
    "version": 3
   },
   "file_extension": ".py",
   "mimetype": "text/x-python",
   "name": "python",
   "nbconvert_exporter": "python",
   "pygments_lexer": "ipython3",
   "version": "3.9.10"
  }
 },
 "nbformat": 4,
 "nbformat_minor": 5
}
