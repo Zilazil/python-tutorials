{
 "cells": [
  {
   "cell_type": "markdown",
   "id": "0156bc74",
   "metadata": {},
   "source": [
    "# Python lecture8 / AI CLUB / Syrian Computer Society"
   ]
  },
  {
   "cell_type": "code",
   "execution_count": 35,
   "id": "10f230d7",
   "metadata": {},
   "outputs": [],
   "source": [
    "import pandas as pd\n",
    "from sklearn.linear_model import LinearRegression\n",
    "from sklearn.model_selection import train_test_split\n",
    "from sklearn import linear_model"
   ]
  },
  {
   "cell_type": "code",
   "execution_count": 36,
   "id": "b04eca75",
   "metadata": {},
   "outputs": [],
   "source": [
    "file_name='D:\\\\fc.csv'\n",
    "df=pd.read_csv(file_name)"
   ]
  },
  {
   "cell_type": "code",
   "execution_count": 37,
   "id": "7687405d",
   "metadata": {},
   "outputs": [
    {
     "data": {
      "text/html": [
       "<div>\n",
       "<style scoped>\n",
       "    .dataframe tbody tr th:only-of-type {\n",
       "        vertical-align: middle;\n",
       "    }\n",
       "\n",
       "    .dataframe tbody tr th {\n",
       "        vertical-align: top;\n",
       "    }\n",
       "\n",
       "    .dataframe thead th {\n",
       "        text-align: right;\n",
       "    }\n",
       "</style>\n",
       "<table border=\"1\" class=\"dataframe\">\n",
       "  <thead>\n",
       "    <tr style=\"text-align: right;\">\n",
       "      <th></th>\n",
       "      <th>MODELYEAR</th>\n",
       "      <th>MAKE</th>\n",
       "      <th>MODEL</th>\n",
       "      <th>VEHICLECLASS</th>\n",
       "      <th>ENGINESIZE</th>\n",
       "      <th>CYLINDERS</th>\n",
       "      <th>TRANSMISSION</th>\n",
       "      <th>FUELTYPE</th>\n",
       "      <th>FUELCONSUMPTION_CITY</th>\n",
       "      <th>FUELCONSUMPTION_HWY</th>\n",
       "      <th>FUELCONSUMPTION_COMB</th>\n",
       "      <th>FUELCONSUMPTION_COMB_MPG</th>\n",
       "      <th>CO2EMISSIONS</th>\n",
       "    </tr>\n",
       "  </thead>\n",
       "  <tbody>\n",
       "    <tr>\n",
       "      <th>0</th>\n",
       "      <td>2014</td>\n",
       "      <td>ACURA</td>\n",
       "      <td>ILX</td>\n",
       "      <td>COMPACT</td>\n",
       "      <td>2.0</td>\n",
       "      <td>4</td>\n",
       "      <td>AS5</td>\n",
       "      <td>Z</td>\n",
       "      <td>9.9</td>\n",
       "      <td>6.7</td>\n",
       "      <td>8.5</td>\n",
       "      <td>33</td>\n",
       "      <td>196</td>\n",
       "    </tr>\n",
       "    <tr>\n",
       "      <th>1</th>\n",
       "      <td>2014</td>\n",
       "      <td>ACURA</td>\n",
       "      <td>ILX</td>\n",
       "      <td>COMPACT</td>\n",
       "      <td>2.4</td>\n",
       "      <td>4</td>\n",
       "      <td>M6</td>\n",
       "      <td>Z</td>\n",
       "      <td>11.2</td>\n",
       "      <td>7.7</td>\n",
       "      <td>9.6</td>\n",
       "      <td>29</td>\n",
       "      <td>221</td>\n",
       "    </tr>\n",
       "    <tr>\n",
       "      <th>2</th>\n",
       "      <td>2014</td>\n",
       "      <td>ACURA</td>\n",
       "      <td>ILX HYBRID</td>\n",
       "      <td>COMPACT</td>\n",
       "      <td>1.5</td>\n",
       "      <td>4</td>\n",
       "      <td>AV7</td>\n",
       "      <td>Z</td>\n",
       "      <td>6.0</td>\n",
       "      <td>5.8</td>\n",
       "      <td>5.9</td>\n",
       "      <td>48</td>\n",
       "      <td>136</td>\n",
       "    </tr>\n",
       "    <tr>\n",
       "      <th>3</th>\n",
       "      <td>2014</td>\n",
       "      <td>ACURA</td>\n",
       "      <td>MDX 4WD</td>\n",
       "      <td>SUV - SMALL</td>\n",
       "      <td>3.5</td>\n",
       "      <td>6</td>\n",
       "      <td>AS6</td>\n",
       "      <td>Z</td>\n",
       "      <td>12.7</td>\n",
       "      <td>9.1</td>\n",
       "      <td>11.1</td>\n",
       "      <td>25</td>\n",
       "      <td>255</td>\n",
       "    </tr>\n",
       "    <tr>\n",
       "      <th>4</th>\n",
       "      <td>2014</td>\n",
       "      <td>ACURA</td>\n",
       "      <td>RDX AWD</td>\n",
       "      <td>SUV - SMALL</td>\n",
       "      <td>3.5</td>\n",
       "      <td>6</td>\n",
       "      <td>AS6</td>\n",
       "      <td>Z</td>\n",
       "      <td>12.1</td>\n",
       "      <td>8.7</td>\n",
       "      <td>10.6</td>\n",
       "      <td>27</td>\n",
       "      <td>244</td>\n",
       "    </tr>\n",
       "  </tbody>\n",
       "</table>\n",
       "</div>"
      ],
      "text/plain": [
       "   MODELYEAR   MAKE       MODEL VEHICLECLASS  ENGINESIZE  CYLINDERS  \\\n",
       "0       2014  ACURA         ILX      COMPACT         2.0          4   \n",
       "1       2014  ACURA         ILX      COMPACT         2.4          4   \n",
       "2       2014  ACURA  ILX HYBRID      COMPACT         1.5          4   \n",
       "3       2014  ACURA     MDX 4WD  SUV - SMALL         3.5          6   \n",
       "4       2014  ACURA     RDX AWD  SUV - SMALL         3.5          6   \n",
       "\n",
       "  TRANSMISSION FUELTYPE  FUELCONSUMPTION_CITY  FUELCONSUMPTION_HWY  \\\n",
       "0          AS5        Z                   9.9                  6.7   \n",
       "1           M6        Z                  11.2                  7.7   \n",
       "2          AV7        Z                   6.0                  5.8   \n",
       "3          AS6        Z                  12.7                  9.1   \n",
       "4          AS6        Z                  12.1                  8.7   \n",
       "\n",
       "   FUELCONSUMPTION_COMB  FUELCONSUMPTION_COMB_MPG  CO2EMISSIONS  \n",
       "0                   8.5                        33           196  \n",
       "1                   9.6                        29           221  \n",
       "2                   5.9                        48           136  \n",
       "3                  11.1                        25           255  \n",
       "4                  10.6                        27           244  "
      ]
     },
     "execution_count": 37,
     "metadata": {},
     "output_type": "execute_result"
    }
   ],
   "source": [
    "df.head()"
   ]
  },
  {
   "cell_type": "code",
   "execution_count": 38,
   "id": "d02beb22",
   "metadata": {},
   "outputs": [],
   "source": [
    "import matplotlib.pyplot as plt"
   ]
  },
  {
   "cell_type": "code",
   "execution_count": 39,
   "id": "ea8866b9",
   "metadata": {},
   "outputs": [
    {
     "data": {
      "image/png": "[encoded data removed]",
      "text/plain": [
       "<Figure size 432x288 with 1 Axes>"
      ]
     },
     "metadata": {
      "needs_background": "light"
     },
     "output_type": "display_data"
    }
   ],
   "source": [
    "y = df.CO2EMISSIONS\n",
    "x = df.ENGINESIZE\n",
    "plt.scatter(x, y)\n",
    "plt.title('the correlation between CO2 EMISSIONS and ENGINESIZE')\n",
    "plt.xlabel('ENGINESIZE')\n",
    "plt.ylabel('CO2 EMISSIONS')\n",
    "plt.show()  "
   ]
  },
  {
   "cell_type": "code",
   "execution_count": 40,
   "id": "d0bf9910",
   "metadata": {},
   "outputs": [],
   "source": [
    "X = df['ENGINESIZE']\n",
    "Y = df['CO2EMISSIONS']\n",
    "regr = linear_model.LinearRegression()\n",
    "x_train, x_test, y_train, y_test = train_test_split(X, Y, test_size=0.15, random_state=1)"
   ]
  },
  {
   "cell_type": "code",
   "execution_count": 41,
   "id": "527d58b6",
   "metadata": {},
   "outputs": [
    {
     "ename": "ValueError",
     "evalue": "Expected 2D array, got 1D array instead:\narray=[3.6 4.  1.4 3.  5.7 2.  3.5 5.7 3.5 3.7 4.7 4.  1.6 5.  3.  6.2 3.4 1.5\n 6.  4.  5.3 3.  1.4 3.5 3.5 2.4 3.5 3.5 1.4 2.  1.6 2.4 6.  4.4 3.6 3.5\n 3.4 5.7 4.4 3.5 3.8 3.5 3.6 3.6 2.  1.6 3.8 2.4 3.6 1.6 3.8 3.7 2.  3.\n 6.4 2.5 4.8 4.  1.5 1.6 2.  3.2 3.6 6.2 3.  4.4 2.  3.5 3.5 3.5 1.6 1.4\n 5.7 5.  2.  1.4 3.6 5.  5.6 4.8 2.5 2.  6.2 5.  3.  1.6 3.4 2.4 3.7 5.\n 3.7 3.5 5.7 1.6 3.2 5.2 4.  5.  3.6 3.5 3.  4.3 5.6 1.8 3.5 2.  5.5 4.6\n 2.  2.  3.2 1.5 1.6 3.5 4.6 1.8 5.3 2.  2.  2.5 5.5 1.5 4.  4.4 3.  2.\n 3.6 2.  5.9 1.8 2.5 5.3 3.5 6.8 5.5 2.7 2.5 2.  3.5 2.4 2.7 5.  5.7 3.6\n 4.4 1.6 3.6 2.5 4.7 6.7 3.7 3.5 3.6 2.  2.7 5.6 4.4 6.6 2.  3.6 6.  2.\n 2.5 2.4 6.2 2.  2.4 2.  1.6 2.5 6.  5.3 2.  5.3 3.  4.4 4.3 2.4 1.8 1.4\n 2.5 4.6 3.6 3.6 2.  2.5 5.4 1.5 4.  2.5 5.  3.  2.  1.6 3.6 2.  1.8 3.6\n 1.  4.4 3.  1.5 2.7 2.  3.  2.5 4.3 5.3 3.7 3.7 3.3 2.7 2.  3.6 5.2 3.6\n 2.4 3.6 6.  5.  2.5 2.4 3.5 2.5 3.5 2.  2.4 3.5 5.7 2.  2.4 5.  3.7 3.6\n 2.  1.6 2.4 2.  1.2 5.3 1.4 3.6 1.6 3.5 2.4 2.  2.  2.  1.6 1.4 3.6 5.3\n 5.3 3.6 2.  2.7 3.  2.7 2.4 1.8 2.  6.2 3.7 5.3 5.  4.4 3.5 2.4 3.  3.6\n 6.2 3.6 3.5 2.  3.  6.2 1.6 4.  2.  5.3 3.6 5.3 3.  2.4 3.6 4.4 2.5 2.\n 3.4 5.4 1.6 2.  2.  3.6 3.7 1.6 3.  4.7 4.7 5.3 3.7 2.  5.  4.7 1.8 3.4\n 3.  2.  1.4 5.  3.6 2.  2.4 4.4 3.7 1.6 3.5 4.8 6.2 4.2 3.5 2.4 1.6 1.6\n 1.6 6.  1.6 3.5 5.3 4.6 4.  1.6 3.6 5.7 5.7 2.4 2.5 3.  3.8 3.8 3.5 5.3\n 1.6 6.2 2.  2.4 3.5 4.8 3.6 4.  2.4 2.5 4.  5.7 5.3 2.5 2.  3.5 4.4 3.\n 5.4 3.  6.2 5.3 1.5 6.2 3.  3.6 3.6 4.7 6.  1.6 2.  5.4 3.  3.  3.  3.\n 2.  2.  6.7 1.  4.2 1.6 1.6 5.  2.  3.7 6.  3.6 6.  3.5 2.4 4.7 3.  3.8\n 2.5 2.4 1.4 6.7 3.7 2.  1.4 3.8 1.6 3.6 3.8 3.5 1.8 2.4 4.4 3.7 2.  2.\n 3.2 3.6 2.  4.4 3.  3.5 3.5 3.  4.7 2.5 3.5 3.5 3.7 5.  3.5 3.5 3.8 2.\n 1.3 3.5 1.2 1.4 2.  1.6 3.5 3.5 2.  3.6 3.6 3.  2.5 1.6 3.4 8.4 1.6 2.5\n 5.7 4.  2.5 5.5 3.  5.3 1.4 1.8 2.4 3.7 3.5 2.4 1.8 4.8 4.7 3.  2.  3.3\n 3.7 5.  1.4 4.6 1.6 3.  2.  1.6 1.8 4.3 5.  2.  3.2 2.4 5.3 2.  1.8 2.5\n 2.  3.5 5.3 2.  3.  2.4 1.8 6.  5.9 3.6 3.6 4.6 3.5 6.6 3.7 2.4 1.8 3.6\n 5.5 2.  5.3 1.4 3.5 3.6 2.  3.  2.5 3.  6.  3.  3.  5.4 3.5 5.3 5.  5.4\n 1.8 1.8 2.  5.2 3.8 2.  2.5 2.  1.8 3.4 3.6 2.  5.5 3.6 5.  4.  3.  1.6\n 6.2 2.  2.  2.5 1.6 3.  2.4 2.4 4.  3.5 1.8 3.6 3.  3.8 1.6 3.  3.7 3.8\n 4.7 2.  5.3 1.8 3.  3.5 2.4 3.7 1.6 4.  5.3 2.  2.  2.  5.  2.  4.8 3.5\n 1.5 1.4 6.  3.7 2.5 2.4 3.  3.6 5.3 4.4 5.  6.2 3.7 2.  3.6 2.  1.6 4.4\n 3.  5.2 2.  3.3 2.4 1.6 2.  1.4 6.2 1.6 6.4 4.7 3.  5.3 3.6 2.5 3.6 2.7\n 4.3 3.7 2.5 3.5 3.6 3.6 3.6 3.6 3.6 3.5 3.6 3.6 3.5 2.  2.  1.8 3.6 2.\n 8.4 2.7 2.4 2.  4.  5.4 4.6 1.  2.5 1.8 2.5 5.6 1.6 3.5 3.  6.4 5.5 5.3\n 2.  4.2 2.1 6.2 3.  3.2 3.5 1.4 1.6 3.5 6.2 4.6 1.4 4.2 1.6 3.  2.  5.3\n 3.5 3.  2.4 2.  3.6 2.  3.  2.  3.  2.  3.6 5.3 3.  3.6 1.8 3.  2.  1.8\n 4.  2.  4.2 5.7 3.6 5.  5.  5.3 3.  4.  3.  1.5 3.7 1.8 1.4 6.  2.5 2.5\n 2.5 2.5 5.  6.2 3.5 1.8 3.6 3.5 3.  5.3 2.5 3.6 2.  2.1 3.4 5.8 3.6 2.\n 1.8 4.8 3.  5.6 2.5 2.5 5.  1.6 2.  5.3 2.5 2.  2.  2.  3.6 3.6 2.  3.5\n 5.  2.  3.6 2.5 2.  3.5 3.  1.6 1.6 3.5 3.6 2.4 2.  3.6 2.  3.6 2.  5.\n 6.2 3.6 2.5 1.4 5.3 2.  1.8 4.  2.  5.3 3.4 1.6 4.7 2.4 3.  3.4 2.  1.4\n 2.5 1.8 3.2 1.6 6.2 3.6 3.7 3.5 6.2 2.5 2.4 3.4 1.8 3.5 3.  1.5 2.4 3.6\n 3.  4.3 2.5 5.5 2.4 1.6 3.5 3.8 3.  2.  3.7 3.  1.4 6.8 2.  2.  5.3 3.2\n 2.  6.4 2.4 4.3 5.3 5.  1.8 5.3 1.8 4.8 5.5 1.6 3.5 1.4 2.  2.  2.  6.6\n 3.6 3.6 3.6 4.6 4.3 3.5 1.6 3.  5.5 1.8 3.5 6.2 5.  3.6 5.  2.  2.4 6.4\n 2.5 2.4 1.6 5.  2.4 2.  2.7 2.  6.2 2.  1.6 3.5 3.6 3.  5.3 5.5 3.5 2.\n 6.2 4.7 3.8 2.4 1.5 1.6 2.  2.4 3.5 5.3 6.5 2.5 2.  3.5 3.6 2.4 2.  2.\n 2.4 2.5 3.6 5.5 4.  2.4 5.  3.5 5.  1.4 4.8 3.6 3.6 2.  3.3 4.7 3.  3.6\n 3.6 1.6 2.5 4.8 2.4 3.2].\nReshape your data either using array.reshape(-1, 1) if your data has a single feature or array.reshape(1, -1) if it contains a single sample.",
     "output_type": "error",
     "traceback": [
      "\u001b[1;31m---------------------------------------------------------------------------\u001b[0m",
      "\u001b[1;31mValueError\u001b[0m                                Traceback (most recent call last)",
      "Input \u001b[1;32mIn [41]\u001b[0m, in \u001b[0;36m<module>\u001b[1;34m\u001b[0m\n\u001b[1;32m----> 1\u001b[0m \u001b[43mregr\u001b[49m\u001b[38;5;241;43m.\u001b[39;49m\u001b[43mfit\u001b[49m\u001b[43m \u001b[49m\u001b[43m(\u001b[49m\u001b[43mx_train\u001b[49m\u001b[43m,\u001b[49m\u001b[43my_train\u001b[49m\u001b[43m)\u001b[49m\n",
      "File \u001b[1;32m~\\AppData\\Local\\Programs\\Python\\Python39\\lib\\site-packages\\sklearn\\linear_model\\_base.py:662\u001b[0m, in \u001b[0;36mLinearRegression.fit\u001b[1;34m(self, X, y, sample_weight)\u001b[0m\n\u001b[0;32m    658\u001b[0m n_jobs_ \u001b[38;5;241m=\u001b[39m \u001b[38;5;28mself\u001b[39m\u001b[38;5;241m.\u001b[39mn_jobs\n\u001b[0;32m    660\u001b[0m accept_sparse \u001b[38;5;241m=\u001b[39m \u001b[38;5;28;01mFalse\u001b[39;00m \u001b[38;5;28;01mif\u001b[39;00m \u001b[38;5;28mself\u001b[39m\u001b[38;5;241m.\u001b[39mpositive \u001b[38;5;28;01melse\u001b[39;00m [\u001b[38;5;124m\"\u001b[39m\u001b[38;5;124mcsr\u001b[39m\u001b[38;5;124m\"\u001b[39m, \u001b[38;5;124m\"\u001b[39m\u001b[38;5;124mcsc\u001b[39m\u001b[38;5;124m\"\u001b[39m, \u001b[38;5;124m\"\u001b[39m\u001b[38;5;124mcoo\u001b[39m\u001b[38;5;124m\"\u001b[39m]\n\u001b[1;32m--> 662\u001b[0m X, y \u001b[38;5;241m=\u001b[39m \u001b[38;5;28;43mself\u001b[39;49m\u001b[38;5;241;43m.\u001b[39;49m\u001b[43m_validate_data\u001b[49m\u001b[43m(\u001b[49m\n\u001b[0;32m    663\u001b[0m \u001b[43m    \u001b[49m\u001b[43mX\u001b[49m\u001b[43m,\u001b[49m\u001b[43m \u001b[49m\u001b[43my\u001b[49m\u001b[43m,\u001b[49m\u001b[43m \u001b[49m\u001b[43maccept_sparse\u001b[49m\u001b[38;5;241;43m=\u001b[39;49m\u001b[43maccept_sparse\u001b[49m\u001b[43m,\u001b[49m\u001b[43m \u001b[49m\u001b[43my_numeric\u001b[49m\u001b[38;5;241;43m=\u001b[39;49m\u001b[38;5;28;43;01mTrue\u001b[39;49;00m\u001b[43m,\u001b[49m\u001b[43m \u001b[49m\u001b[43mmulti_output\u001b[49m\u001b[38;5;241;43m=\u001b[39;49m\u001b[38;5;28;43;01mTrue\u001b[39;49;00m\n\u001b[0;32m    664\u001b[0m \u001b[43m\u001b[49m\u001b[43m)\u001b[49m\n\u001b[0;32m    666\u001b[0m \u001b[38;5;28;01mif\u001b[39;00m sample_weight \u001b[38;5;129;01mis\u001b[39;00m \u001b[38;5;129;01mnot\u001b[39;00m \u001b[38;5;28;01mNone\u001b[39;00m:\n\u001b[0;32m    667\u001b[0m     sample_weight \u001b[38;5;241m=\u001b[39m _check_sample_weight(sample_weight, X, dtype\u001b[38;5;241m=\u001b[39mX\u001b[38;5;241m.\u001b[39mdtype)\n",
      "File \u001b[1;32m~\\AppData\\Local\\Programs\\Python\\Python39\\lib\\site-packages\\sklearn\\base.py:581\u001b[0m, in \u001b[0;36mBaseEstimator._validate_data\u001b[1;34m(self, X, y, reset, validate_separately, **check_params)\u001b[0m\n\u001b[0;32m    579\u001b[0m         y \u001b[38;5;241m=\u001b[39m check_array(y, \u001b[38;5;241m*\u001b[39m\u001b[38;5;241m*\u001b[39mcheck_y_params)\n\u001b[0;32m    580\u001b[0m     \u001b[38;5;28;01melse\u001b[39;00m:\n\u001b[1;32m--> 581\u001b[0m         X, y \u001b[38;5;241m=\u001b[39m check_X_y(X, y, \u001b[38;5;241m*\u001b[39m\u001b[38;5;241m*\u001b[39mcheck_params)\n\u001b[0;32m    582\u001b[0m     out \u001b[38;5;241m=\u001b[39m X, y\n\u001b[0;32m    584\u001b[0m \u001b[38;5;28;01mif\u001b[39;00m \u001b[38;5;129;01mnot\u001b[39;00m no_val_X \u001b[38;5;129;01mand\u001b[39;00m check_params\u001b[38;5;241m.\u001b[39mget(\u001b[38;5;124m\"\u001b[39m\u001b[38;5;124mensure_2d\u001b[39m\u001b[38;5;124m\"\u001b[39m, \u001b[38;5;28;01mTrue\u001b[39;00m):\n",
      "File \u001b[1;32m~\\AppData\\Local\\Programs\\Python\\Python39\\lib\\site-packages\\sklearn\\utils\\validation.py:964\u001b[0m, in \u001b[0;36mcheck_X_y\u001b[1;34m(X, y, accept_sparse, accept_large_sparse, dtype, order, copy, force_all_finite, ensure_2d, allow_nd, multi_output, ensure_min_samples, ensure_min_features, y_numeric, estimator)\u001b[0m\n\u001b[0;32m    961\u001b[0m \u001b[38;5;28;01mif\u001b[39;00m y \u001b[38;5;129;01mis\u001b[39;00m \u001b[38;5;28;01mNone\u001b[39;00m:\n\u001b[0;32m    962\u001b[0m     \u001b[38;5;28;01mraise\u001b[39;00m \u001b[38;5;167;01mValueError\u001b[39;00m(\u001b[38;5;124m\"\u001b[39m\u001b[38;5;124my cannot be None\u001b[39m\u001b[38;5;124m\"\u001b[39m)\n\u001b[1;32m--> 964\u001b[0m X \u001b[38;5;241m=\u001b[39m \u001b[43mcheck_array\u001b[49m\u001b[43m(\u001b[49m\n\u001b[0;32m    965\u001b[0m \u001b[43m    \u001b[49m\u001b[43mX\u001b[49m\u001b[43m,\u001b[49m\n\u001b[0;32m    966\u001b[0m \u001b[43m    \u001b[49m\u001b[43maccept_sparse\u001b[49m\u001b[38;5;241;43m=\u001b[39;49m\u001b[43maccept_sparse\u001b[49m\u001b[43m,\u001b[49m\n\u001b[0;32m    967\u001b[0m \u001b[43m    \u001b[49m\u001b[43maccept_large_sparse\u001b[49m\u001b[38;5;241;43m=\u001b[39;49m\u001b[43maccept_large_sparse\u001b[49m\u001b[43m,\u001b[49m\n\u001b[0;32m    968\u001b[0m \u001b[43m    \u001b[49m\u001b[43mdtype\u001b[49m\u001b[38;5;241;43m=\u001b[39;49m\u001b[43mdtype\u001b[49m\u001b[43m,\u001b[49m\n\u001b[0;32m    969\u001b[0m \u001b[43m    \u001b[49m\u001b[43morder\u001b[49m\u001b[38;5;241;43m=\u001b[39;49m\u001b[43morder\u001b[49m\u001b[43m,\u001b[49m\n\u001b[0;32m    970\u001b[0m \u001b[43m    \u001b[49m\u001b[43mcopy\u001b[49m\u001b[38;5;241;43m=\u001b[39;49m\u001b[43mcopy\u001b[49m\u001b[43m,\u001b[49m\n\u001b[0;32m    971\u001b[0m \u001b[43m    \u001b[49m\u001b[43mforce_all_finite\u001b[49m\u001b[38;5;241;43m=\u001b[39;49m\u001b[43mforce_all_finite\u001b[49m\u001b[43m,\u001b[49m\n\u001b[0;32m    972\u001b[0m \u001b[43m    \u001b[49m\u001b[43mensure_2d\u001b[49m\u001b[38;5;241;43m=\u001b[39;49m\u001b[43mensure_2d\u001b[49m\u001b[43m,\u001b[49m\n\u001b[0;32m    973\u001b[0m \u001b[43m    \u001b[49m\u001b[43mallow_nd\u001b[49m\u001b[38;5;241;43m=\u001b[39;49m\u001b[43mallow_nd\u001b[49m\u001b[43m,\u001b[49m\n\u001b[0;32m    974\u001b[0m \u001b[43m    \u001b[49m\u001b[43mensure_min_samples\u001b[49m\u001b[38;5;241;43m=\u001b[39;49m\u001b[43mensure_min_samples\u001b[49m\u001b[43m,\u001b[49m\n\u001b[0;32m    975\u001b[0m \u001b[43m    \u001b[49m\u001b[43mensure_min_features\u001b[49m\u001b[38;5;241;43m=\u001b[39;49m\u001b[43mensure_min_features\u001b[49m\u001b[43m,\u001b[49m\n\u001b[0;32m    976\u001b[0m \u001b[43m    \u001b[49m\u001b[43mestimator\u001b[49m\u001b[38;5;241;43m=\u001b[39;49m\u001b[43mestimator\u001b[49m\u001b[43m,\u001b[49m\n\u001b[0;32m    977\u001b[0m \u001b[43m\u001b[49m\u001b[43m)\u001b[49m\n\u001b[0;32m    979\u001b[0m y \u001b[38;5;241m=\u001b[39m _check_y(y, multi_output\u001b[38;5;241m=\u001b[39mmulti_output, y_numeric\u001b[38;5;241m=\u001b[39my_numeric)\n\u001b[0;32m    981\u001b[0m check_consistent_length(X, y)\n",
      "File \u001b[1;32m~\\AppData\\Local\\Programs\\Python\\Python39\\lib\\site-packages\\sklearn\\utils\\validation.py:769\u001b[0m, in \u001b[0;36mcheck_array\u001b[1;34m(array, accept_sparse, accept_large_sparse, dtype, order, copy, force_all_finite, ensure_2d, allow_nd, ensure_min_samples, ensure_min_features, estimator)\u001b[0m\n\u001b[0;32m    767\u001b[0m     \u001b[38;5;66;03m# If input is 1D raise error\u001b[39;00m\n\u001b[0;32m    768\u001b[0m     \u001b[38;5;28;01mif\u001b[39;00m array\u001b[38;5;241m.\u001b[39mndim \u001b[38;5;241m==\u001b[39m \u001b[38;5;241m1\u001b[39m:\n\u001b[1;32m--> 769\u001b[0m         \u001b[38;5;28;01mraise\u001b[39;00m \u001b[38;5;167;01mValueError\u001b[39;00m(\n\u001b[0;32m    770\u001b[0m             \u001b[38;5;124m\"\u001b[39m\u001b[38;5;124mExpected 2D array, got 1D array instead:\u001b[39m\u001b[38;5;130;01m\\n\u001b[39;00m\u001b[38;5;124marray=\u001b[39m\u001b[38;5;132;01m{}\u001b[39;00m\u001b[38;5;124m.\u001b[39m\u001b[38;5;130;01m\\n\u001b[39;00m\u001b[38;5;124m\"\u001b[39m\n\u001b[0;32m    771\u001b[0m             \u001b[38;5;124m\"\u001b[39m\u001b[38;5;124mReshape your data either using array.reshape(-1, 1) if \u001b[39m\u001b[38;5;124m\"\u001b[39m\n\u001b[0;32m    772\u001b[0m             \u001b[38;5;124m\"\u001b[39m\u001b[38;5;124myour data has a single feature or array.reshape(1, -1) \u001b[39m\u001b[38;5;124m\"\u001b[39m\n\u001b[0;32m    773\u001b[0m             \u001b[38;5;124m\"\u001b[39m\u001b[38;5;124mif it contains a single sample.\u001b[39m\u001b[38;5;124m\"\u001b[39m\u001b[38;5;241m.\u001b[39mformat(array)\n\u001b[0;32m    774\u001b[0m         )\n\u001b[0;32m    776\u001b[0m \u001b[38;5;66;03m# make sure we actually converted to numeric:\u001b[39;00m\n\u001b[0;32m    777\u001b[0m \u001b[38;5;28;01mif\u001b[39;00m dtype_numeric \u001b[38;5;129;01mand\u001b[39;00m array\u001b[38;5;241m.\u001b[39mdtype\u001b[38;5;241m.\u001b[39mkind \u001b[38;5;129;01min\u001b[39;00m \u001b[38;5;124m\"\u001b[39m\u001b[38;5;124mOUSV\u001b[39m\u001b[38;5;124m\"\u001b[39m:\n",
      "\u001b[1;31mValueError\u001b[0m: Expected 2D array, got 1D array instead:\narray=[3.6 4.  1.4 3.  5.7 2.  3.5 5.7 3.5 3.7 4.7 4.  1.6 5.  3.  6.2 3.4 1.5\n 6.  4.  5.3 3.  1.4 3.5 3.5 2.4 3.5 3.5 1.4 2.  1.6 2.4 6.  4.4 3.6 3.5\n 3.4 5.7 4.4 3.5 3.8 3.5 3.6 3.6 2.  1.6 3.8 2.4 3.6 1.6 3.8 3.7 2.  3.\n 6.4 2.5 4.8 4.  1.5 1.6 2.  3.2 3.6 6.2 3.  4.4 2.  3.5 3.5 3.5 1.6 1.4\n 5.7 5.  2.  1.4 3.6 5.  5.6 4.8 2.5 2.  6.2 5.  3.  1.6 3.4 2.4 3.7 5.\n 3.7 3.5 5.7 1.6 3.2 5.2 4.  5.  3.6 3.5 3.  4.3 5.6 1.8 3.5 2.  5.5 4.6\n 2.  2.  3.2 1.5 1.6 3.5 4.6 1.8 5.3 2.  2.  2.5 5.5 1.5 4.  4.4 3.  2.\n 3.6 2.  5.9 1.8 2.5 5.3 3.5 6.8 5.5 2.7 2.5 2.  3.5 2.4 2.7 5.  5.7 3.6\n 4.4 1.6 3.6 2.5 4.7 6.7 3.7 3.5 3.6 2.  2.7 5.6 4.4 6.6 2.  3.6 6.  2.\n 2.5 2.4 6.2 2.  2.4 2.  1.6 2.5 6.  5.3 2.  5.3 3.  4.4 4.3 2.4 1.8 1.4\n 2.5 4.6 3.6 3.6 2.  2.5 5.4 1.5 4.  2.5 5.  3.  2.  1.6 3.6 2.  1.8 3.6\n 1.  4.4 3.  1.5 2.7 2.  3.  2.5 4.3 5.3 3.7 3.7 3.3 2.7 2.  3.6 5.2 3.6\n 2.4 3.6 6.  5.  2.5 2.4 3.5 2.5 3.5 2.  2.4 3.5 5.7 2.  2.4 5.  3.7 3.6\n 2.  1.6 2.4 2.  1.2 5.3 1.4 3.6 1.6 3.5 2.4 2.  2.  2.  1.6 1.4 3.6 5.3\n 5.3 3.6 2.  2.7 3.  2.7 2.4 1.8 2.  6.2 3.7 5.3 5.  4.4 3.5 2.4 3.  3.6\n 6.2 3.6 3.5 2.  3.  6.2 1.6 4.  2.  5.3 3.6 5.3 3.  2.4 3.6 4.4 2.5 2.\n 3.4 5.4 1.6 2.  2.  3.6 3.7 1.6 3.  4.7 4.7 5.3 3.7 2.  5.  4.7 1.8 3.4\n 3.  2.  1.4 5.  3.6 2.  2.4 4.4 3.7 1.6 3.5 4.8 6.2 4.2 3.5 2.4 1.6 1.6\n 1.6 6.  1.6 3.5 5.3 4.6 4.  1.6 3.6 5.7 5.7 2.4 2.5 3.  3.8 3.8 3.5 5.3\n 1.6 6.2 2.  2.4 3.5 4.8 3.6 4.  2.4 2.5 4.  5.7 5.3 2.5 2.  3.5 4.4 3.\n 5.4 3.  6.2 5.3 1.5 6.2 3.  3.6 3.6 4.7 6.  1.6 2.  5.4 3.  3.  3.  3.\n 2.  2.  6.7 1.  4.2 1.6 1.6 5.  2.  3.7 6.  3.6 6.  3.5 2.4 4.7 3.  3.8\n 2.5 2.4 1.4 6.7 3.7 2.  1.4 3.8 1.6 3.6 3.8 3.5 1.8 2.4 4.4 3.7 2.  2.\n 3.2 3.6 2.  4.4 3.  3.5 3.5 3.  4.7 2.5 3.5 3.5 3.7 5.  3.5 3.5 3.8 2.\n 1.3 3.5 1.2 1.4 2.  1.6 3.5 3.5 2.  3.6 3.6 3.  2.5 1.6 3.4 8.4 1.6 2.5\n 5.7 4.  2.5 5.5 3.  5.3 1.4 1.8 2.4 3.7 3.5 2.4 1.8 4.8 4.7 3.  2.  3.3\n 3.7 5.  1.4 4.6 1.6 3.  2.  1.6 1.8 4.3 5.  2.  3.2 2.4 5.3 2.  1.8 2.5\n 2.  3.5 5.3 2.  3.  2.4 1.8 6.  5.9 3.6 3.6 4.6 3.5 6.6 3.7 2.4 1.8 3.6\n 5.5 2.  5.3 1.4 3.5 3.6 2.  3.  2.5 3.  6.  3.  3.  5.4 3.5 5.3 5.  5.4\n 1.8 1.8 2.  5.2 3.8 2.  2.5 2.  1.8 3.4 3.6 2.  5.5 3.6 5.  4.  3.  1.6\n 6.2 2.  2.  2.5 1.6 3.  2.4 2.4 4.  3.5 1.8 3.6 3.  3.8 1.6 3.  3.7 3.8\n 4.7 2.  5.3 1.8 3.  3.5 2.4 3.7 1.6 4.  5.3 2.  2.  2.  5.  2.  4.8 3.5\n 1.5 1.4 6.  3.7 2.5 2.4 3.  3.6 5.3 4.4 5.  6.2 3.7 2.  3.6 2.  1.6 4.4\n 3.  5.2 2.  3.3 2.4 1.6 2.  1.4 6.2 1.6 6.4 4.7 3.  5.3 3.6 2.5 3.6 2.7\n 4.3 3.7 2.5 3.5 3.6 3.6 3.6 3.6 3.6 3.5 3.6 3.6 3.5 2.  2.  1.8 3.6 2.\n 8.4 2.7 2.4 2.  4.  5.4 4.6 1.  2.5 1.8 2.5 5.6 1.6 3.5 3.  6.4 5.5 5.3\n 2.  4.2 2.1 6.2 3.  3.2 3.5 1.4 1.6 3.5 6.2 4.6 1.4 4.2 1.6 3.  2.  5.3\n 3.5 3.  2.4 2.  3.6 2.  3.  2.  3.  2.  3.6 5.3 3.  3.6 1.8 3.  2.  1.8\n 4.  2.  4.2 5.7 3.6 5.  5.  5.3 3.  4.  3.  1.5 3.7 1.8 1.4 6.  2.5 2.5\n 2.5 2.5 5.  6.2 3.5 1.8 3.6 3.5 3.  5.3 2.5 3.6 2.  2.1 3.4 5.8 3.6 2.\n 1.8 4.8 3.  5.6 2.5 2.5 5.  1.6 2.  5.3 2.5 2.  2.  2.  3.6 3.6 2.  3.5\n 5.  2.  3.6 2.5 2.  3.5 3.  1.6 1.6 3.5 3.6 2.4 2.  3.6 2.  3.6 2.  5.\n 6.2 3.6 2.5 1.4 5.3 2.  1.8 4.  2.  5.3 3.4 1.6 4.7 2.4 3.  3.4 2.  1.4\n 2.5 1.8 3.2 1.6 6.2 3.6 3.7 3.5 6.2 2.5 2.4 3.4 1.8 3.5 3.  1.5 2.4 3.6\n 3.  4.3 2.5 5.5 2.4 1.6 3.5 3.8 3.  2.  3.7 3.  1.4 6.8 2.  2.  5.3 3.2\n 2.  6.4 2.4 4.3 5.3 5.  1.8 5.3 1.8 4.8 5.5 1.6 3.5 1.4 2.  2.  2.  6.6\n 3.6 3.6 3.6 4.6 4.3 3.5 1.6 3.  5.5 1.8 3.5 6.2 5.  3.6 5.  2.  2.4 6.4\n 2.5 2.4 1.6 5.  2.4 2.  2.7 2.  6.2 2.  1.6 3.5 3.6 3.  5.3 5.5 3.5 2.\n 6.2 4.7 3.8 2.4 1.5 1.6 2.  2.4 3.5 5.3 6.5 2.5 2.  3.5 3.6 2.4 2.  2.\n 2.4 2.5 3.6 5.5 4.  2.4 5.  3.5 5.  1.4 4.8 3.6 3.6 2.  3.3 4.7 3.  3.6\n 3.6 1.6 2.5 4.8 2.4 3.2].\nReshape your data either using array.reshape(-1, 1) if your data has a single feature or array.reshape(1, -1) if it contains a single sample."
     ]
    }
   ],
   "source": [
    "regr.fit (x_train,y_train)"
   ]
  },
  {
   "cell_type": "code",
   "execution_count": 30,
   "id": "f2fbb134",
   "metadata": {},
   "outputs": [
    {
     "data": {
      "text/plain": [
       "(1067, 13)"
      ]
     },
     "execution_count": 30,
     "metadata": {},
     "output_type": "execute_result"
    }
   ],
   "source": [
    "df.shape"
   ]
  },
  {
   "cell_type": "code",
   "execution_count": 11,
   "id": "fd8ba4cb",
   "metadata": {},
   "outputs": [
    {
     "data": {
      "text/plain": [
       "MODELYEAR                          2014\n",
       "MAKE                              ACURA\n",
       "MODEL                           MDX 4WD\n",
       "VEHICLECLASS                SUV - SMALL\n",
       "ENGINESIZE                          3.5\n",
       "CYLINDERS                             6\n",
       "TRANSMISSION                        AS6\n",
       "FUELTYPE                              Z\n",
       "FUELCONSUMPTION_CITY               12.7\n",
       "FUELCONSUMPTION_HWY                 9.1\n",
       "FUELCONSUMPTION_COMB               11.1\n",
       "FUELCONSUMPTION_COMB_MPG             25\n",
       "CO2EMISSIONS                        255\n",
       "Name: 3, dtype: object"
      ]
     },
     "execution_count": 11,
     "metadata": {},
     "output_type": "execute_result"
    }
   ],
   "source": [
    "df.loc[3]"
   ]
  },
  {
   "cell_type": "code",
   "execution_count": 12,
   "id": "f918828b",
   "metadata": {},
   "outputs": [
    {
     "data": {
      "text/html": [
       "<div>\n",
       "<style scoped>\n",
       "    .dataframe tbody tr th:only-of-type {\n",
       "        vertical-align: middle;\n",
       "    }\n",
       "\n",
       "    .dataframe tbody tr th {\n",
       "        vertical-align: top;\n",
       "    }\n",
       "\n",
       "    .dataframe thead th {\n",
       "        text-align: right;\n",
       "    }\n",
       "</style>\n",
       "<table border=\"1\" class=\"dataframe\">\n",
       "  <thead>\n",
       "    <tr style=\"text-align: right;\">\n",
       "      <th></th>\n",
       "      <th>ENGINESIZE</th>\n",
       "      <th>CO2EMISSIONS</th>\n",
       "    </tr>\n",
       "  </thead>\n",
       "  <tbody>\n",
       "    <tr>\n",
       "      <th>0</th>\n",
       "      <td>2.0</td>\n",
       "      <td>196</td>\n",
       "    </tr>\n",
       "    <tr>\n",
       "      <th>1</th>\n",
       "      <td>2.4</td>\n",
       "      <td>221</td>\n",
       "    </tr>\n",
       "    <tr>\n",
       "      <th>2</th>\n",
       "      <td>1.5</td>\n",
       "      <td>136</td>\n",
       "    </tr>\n",
       "    <tr>\n",
       "      <th>3</th>\n",
       "      <td>3.5</td>\n",
       "      <td>255</td>\n",
       "    </tr>\n",
       "    <tr>\n",
       "      <th>4</th>\n",
       "      <td>3.5</td>\n",
       "      <td>244</td>\n",
       "    </tr>\n",
       "  </tbody>\n",
       "</table>\n",
       "</div>"
      ],
      "text/plain": [
       "   ENGINESIZE  CO2EMISSIONS\n",
       "0         2.0           196\n",
       "1         2.4           221\n",
       "2         1.5           136\n",
       "3         3.5           255\n",
       "4         3.5           244"
      ]
     },
     "execution_count": 12,
     "metadata": {},
     "output_type": "execute_result"
    }
   ],
   "source": [
    "df1=df.loc[:, [\"ENGINESIZE\", \"CO2EMISSIONS\"]]\n",
    "df1.head()"
   ]
  },
  {
   "cell_type": "code",
   "execution_count": 14,
   "id": "86fe493a",
   "metadata": {},
   "outputs": [
    {
     "data": {
      "text/html": [
       "<div>\n",
       "<style scoped>\n",
       "    .dataframe tbody tr th:only-of-type {\n",
       "        vertical-align: middle;\n",
       "    }\n",
       "\n",
       "    .dataframe tbody tr th {\n",
       "        vertical-align: top;\n",
       "    }\n",
       "\n",
       "    .dataframe thead th {\n",
       "        text-align: right;\n",
       "    }\n",
       "</style>\n",
       "<table border=\"1\" class=\"dataframe\">\n",
       "  <thead>\n",
       "    <tr style=\"text-align: right;\">\n",
       "      <th></th>\n",
       "      <th>ENGINESIZE</th>\n",
       "      <th>CO2EMISSIONS</th>\n",
       "    </tr>\n",
       "  </thead>\n",
       "  <tbody>\n",
       "    <tr>\n",
       "      <th>0</th>\n",
       "      <td>2.0</td>\n",
       "      <td>196</td>\n",
       "    </tr>\n",
       "    <tr>\n",
       "      <th>1</th>\n",
       "      <td>2.4</td>\n",
       "      <td>221</td>\n",
       "    </tr>\n",
       "    <tr>\n",
       "      <th>2</th>\n",
       "      <td>1.5</td>\n",
       "      <td>136</td>\n",
       "    </tr>\n",
       "    <tr>\n",
       "      <th>3</th>\n",
       "      <td>3.5</td>\n",
       "      <td>255</td>\n",
       "    </tr>\n",
       "    <tr>\n",
       "      <th>4</th>\n",
       "      <td>3.5</td>\n",
       "      <td>244</td>\n",
       "    </tr>\n",
       "  </tbody>\n",
       "</table>\n",
       "</div>"
      ],
      "text/plain": [
       "   ENGINESIZE  CO2EMISSIONS\n",
       "0         2.0           196\n",
       "1         2.4           221\n",
       "2         1.5           136\n",
       "3         3.5           255\n",
       "4         3.5           244"
      ]
     },
     "execution_count": 14,
     "metadata": {},
     "output_type": "execute_result"
    }
   ],
   "source": [
    "df2=df.iloc[:, [4,12]]\n",
    "df2.head()"
   ]
  },
  {
   "cell_type": "code",
   "execution_count": 16,
   "id": "b25505e3",
   "metadata": {},
   "outputs": [
    {
     "name": "stdout",
     "output_type": "stream",
     "text": [
      "0       False\n",
      "1       False\n",
      "2       False\n",
      "3        True\n",
      "4        True\n",
      "        ...  \n",
      "1062    False\n",
      "1063    False\n",
      "1064    False\n",
      "1065    False\n",
      "1066    False\n",
      "Name: ENGINESIZE, Length: 1067, dtype: bool\n"
     ]
    }
   ],
   "source": [
    "condition=df['ENGINESIZE']==3.5\n",
    "print(condition)"
   ]
  },
  {
   "cell_type": "code",
   "execution_count": 17,
   "id": "4e9ec33d",
   "metadata": {},
   "outputs": [
    {
     "data": {
      "text/html": [
       "<div>\n",
       "<style scoped>\n",
       "    .dataframe tbody tr th:only-of-type {\n",
       "        vertical-align: middle;\n",
       "    }\n",
       "\n",
       "    .dataframe tbody tr th {\n",
       "        vertical-align: top;\n",
       "    }\n",
       "\n",
       "    .dataframe thead th {\n",
       "        text-align: right;\n",
       "    }\n",
       "</style>\n",
       "<table border=\"1\" class=\"dataframe\">\n",
       "  <thead>\n",
       "    <tr style=\"text-align: right;\">\n",
       "      <th></th>\n",
       "      <th>MODELYEAR</th>\n",
       "      <th>ENGINESIZE</th>\n",
       "      <th>CYLINDERS</th>\n",
       "      <th>FUELCONSUMPTION_CITY</th>\n",
       "      <th>FUELCONSUMPTION_HWY</th>\n",
       "      <th>FUELCONSUMPTION_COMB</th>\n",
       "      <th>FUELCONSUMPTION_COMB_MPG</th>\n",
       "      <th>CO2EMISSIONS</th>\n",
       "    </tr>\n",
       "  </thead>\n",
       "  <tbody>\n",
       "    <tr>\n",
       "      <th>count</th>\n",
       "      <td>1067.0</td>\n",
       "      <td>1067.000000</td>\n",
       "      <td>1067.000000</td>\n",
       "      <td>1067.000000</td>\n",
       "      <td>1067.000000</td>\n",
       "      <td>1067.000000</td>\n",
       "      <td>1067.000000</td>\n",
       "      <td>1067.000000</td>\n",
       "    </tr>\n",
       "    <tr>\n",
       "      <th>mean</th>\n",
       "      <td>2014.0</td>\n",
       "      <td>3.346298</td>\n",
       "      <td>5.794752</td>\n",
       "      <td>13.296532</td>\n",
       "      <td>9.474602</td>\n",
       "      <td>11.580881</td>\n",
       "      <td>26.441425</td>\n",
       "      <td>256.228679</td>\n",
       "    </tr>\n",
       "    <tr>\n",
       "      <th>std</th>\n",
       "      <td>0.0</td>\n",
       "      <td>1.415895</td>\n",
       "      <td>1.797447</td>\n",
       "      <td>4.101253</td>\n",
       "      <td>2.794510</td>\n",
       "      <td>3.485595</td>\n",
       "      <td>7.468702</td>\n",
       "      <td>63.372304</td>\n",
       "    </tr>\n",
       "    <tr>\n",
       "      <th>min</th>\n",
       "      <td>2014.0</td>\n",
       "      <td>1.000000</td>\n",
       "      <td>3.000000</td>\n",
       "      <td>4.600000</td>\n",
       "      <td>4.900000</td>\n",
       "      <td>4.700000</td>\n",
       "      <td>11.000000</td>\n",
       "      <td>108.000000</td>\n",
       "    </tr>\n",
       "    <tr>\n",
       "      <th>25%</th>\n",
       "      <td>2014.0</td>\n",
       "      <td>2.000000</td>\n",
       "      <td>4.000000</td>\n",
       "      <td>10.250000</td>\n",
       "      <td>7.500000</td>\n",
       "      <td>9.000000</td>\n",
       "      <td>21.000000</td>\n",
       "      <td>207.000000</td>\n",
       "    </tr>\n",
       "    <tr>\n",
       "      <th>50%</th>\n",
       "      <td>2014.0</td>\n",
       "      <td>3.400000</td>\n",
       "      <td>6.000000</td>\n",
       "      <td>12.600000</td>\n",
       "      <td>8.800000</td>\n",
       "      <td>10.900000</td>\n",
       "      <td>26.000000</td>\n",
       "      <td>251.000000</td>\n",
       "    </tr>\n",
       "    <tr>\n",
       "      <th>75%</th>\n",
       "      <td>2014.0</td>\n",
       "      <td>4.300000</td>\n",
       "      <td>8.000000</td>\n",
       "      <td>15.550000</td>\n",
       "      <td>10.850000</td>\n",
       "      <td>13.350000</td>\n",
       "      <td>31.000000</td>\n",
       "      <td>294.000000</td>\n",
       "    </tr>\n",
       "    <tr>\n",
       "      <th>max</th>\n",
       "      <td>2014.0</td>\n",
       "      <td>8.400000</td>\n",
       "      <td>12.000000</td>\n",
       "      <td>30.200000</td>\n",
       "      <td>20.500000</td>\n",
       "      <td>25.800000</td>\n",
       "      <td>60.000000</td>\n",
       "      <td>488.000000</td>\n",
       "    </tr>\n",
       "  </tbody>\n",
       "</table>\n",
       "</div>"
      ],
      "text/plain": [
       "       MODELYEAR   ENGINESIZE    CYLINDERS  FUELCONSUMPTION_CITY  \\\n",
       "count     1067.0  1067.000000  1067.000000           1067.000000   \n",
       "mean      2014.0     3.346298     5.794752             13.296532   \n",
       "std          0.0     1.415895     1.797447              4.101253   \n",
       "min       2014.0     1.000000     3.000000              4.600000   \n",
       "25%       2014.0     2.000000     4.000000             10.250000   \n",
       "50%       2014.0     3.400000     6.000000             12.600000   \n",
       "75%       2014.0     4.300000     8.000000             15.550000   \n",
       "max       2014.0     8.400000    12.000000             30.200000   \n",
       "\n",
       "       FUELCONSUMPTION_HWY  FUELCONSUMPTION_COMB  FUELCONSUMPTION_COMB_MPG  \\\n",
       "count          1067.000000           1067.000000               1067.000000   \n",
       "mean              9.474602             11.580881                 26.441425   \n",
       "std               2.794510              3.485595                  7.468702   \n",
       "min               4.900000              4.700000                 11.000000   \n",
       "25%               7.500000              9.000000                 21.000000   \n",
       "50%               8.800000             10.900000                 26.000000   \n",
       "75%              10.850000             13.350000                 31.000000   \n",
       "max              20.500000             25.800000                 60.000000   \n",
       "\n",
       "       CO2EMISSIONS  \n",
       "count   1067.000000  \n",
       "mean     256.228679  \n",
       "std       63.372304  \n",
       "min      108.000000  \n",
       "25%      207.000000  \n",
       "50%      251.000000  \n",
       "75%      294.000000  \n",
       "max      488.000000  "
      ]
     },
     "execution_count": 17,
     "metadata": {},
     "output_type": "execute_result"
    }
   ],
   "source": [
    "df.describe()"
   ]
  },
  {
   "cell_type": "code",
   "execution_count": null,
   "id": "8c1b381b",
   "metadata": {},
   "outputs": [],
   "source": []
  }
 ],
 "metadata": {
  "kernelspec": {
   "display_name": "Python 3 (ipykernel)",
   "language": "python",
   "name": "python3"
  },
  "language_info": {
   "codemirror_mode": {
    "name": "ipython",
    "version": 3
   },
   "file_extension": ".py",
   "mimetype": "text/x-python",
   "name": "python",
   "nbconvert_exporter": "python",
   "pygments_lexer": "ipython3",
   "version": "3.9.10"
  }
 },
 "nbformat": 4,
 "nbformat_minor": 5
}
