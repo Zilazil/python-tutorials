{
 "cells": [
  {
   "cell_type": "markdown",
   "id": "3196331b",
   "metadata": {},
   "source": [
    "# second lecture"
   ]
  },
  {
   "cell_type": "markdown",
   "id": "8a570583",
   "metadata": {},
   "source": [
    "# Python Course / AI CLUB / Syrian Computer Society"
   ]
  },
  {
   "cell_type": "markdown",
   "id": "aa434829",
   "metadata": {},
   "source": [
    "### Lists"
   ]
  },
  {
   "cell_type": "code",
   "execution_count": 12,
   "id": "c9c3cbdf",
   "metadata": {},
   "outputs": [
    {
     "name": "stdout",
     "output_type": "stream",
     "text": [
      "['hello python', 0.9, ('A', 1), [1, 0, 2]]\n",
      "hello python\n",
      "1\n",
      "---------------------------------------------------\n",
      "['red', 'blue', 'green']\n",
      "['red', 'blue', 'white']\n",
      "['red', 'blue', 'white', ['white']]\n",
      "[0.9, ('A', 1)]\n"
     ]
    }
   ],
   "source": [
    "my_list=['hello python',0.9,('A',1),[1,0,2]]\n",
    "print(my_list)\n",
    "print(my_list[0])\n",
    "print(my_list[2][1])\n",
    "print('---------------------------------------------------')\n",
    "l1=['red','blue']\n",
    "l2=['green']\n",
    "print(l1+l2)\n",
    "l1.extend(['white'])\n",
    "print(l1)\n",
    "l1.append(['white'])\n",
    "print(l1)\n",
    "print(my_list[1:3])\n"
   ]
  },
  {
   "cell_type": "code",
   "execution_count": 14,
   "id": "8b59f4e0",
   "metadata": {},
   "outputs": [
    {
     "name": "stdout",
     "output_type": "stream",
     "text": [
      "['hello', 'salut', 'hi']\n"
     ]
    }
   ],
   "source": [
    "A=['hello','salut','morning']\n",
    "A[2]='hi'\n",
    "print(A)"
   ]
  },
  {
   "cell_type": "code",
   "execution_count": 15,
   "id": "f99c0896",
   "metadata": {},
   "outputs": [
    {
     "name": "stdout",
     "output_type": "stream",
     "text": [
      "['salut', 'hi']\n"
     ]
    }
   ],
   "source": [
    "del(A[0])\n",
    "print(A)"
   ]
  },
  {
   "cell_type": "code",
   "execution_count": 19,
   "id": "f80eb61e",
   "metadata": {},
   "outputs": [
    {
     "name": "stdout",
     "output_type": "stream",
     "text": [
      "['learn', 'python', 'for', 'machine', 'learning']\n",
      "['learn python for machine learning']\n"
     ]
    }
   ],
   "source": [
    "#CONVERT STRING TO LIST\n",
    "B='learn python for machine learning'\n",
    "print(B.split())\n",
    "print(B.split(\",\"))\n"
   ]
  },
  {
   "cell_type": "code",
   "execution_count": 22,
   "id": "14bbce5b",
   "metadata": {},
   "outputs": [
    {
     "name": "stdout",
     "output_type": "stream",
     "text": [
      "[1, 2, 3]\n",
      "[1, 2, 3]\n",
      "[1, 2, 3]\n",
      "[-1, 2, 3]\n",
      "[-1, 2, 3]\n",
      "[1, 2, 3]\n"
     ]
    }
   ],
   "source": [
    "#ALIASING VS CLONING\n",
    "C=[1,2,3]\n",
    "D=C\n",
    "E=C[:]\n",
    "print(C)\n",
    "print(D)\n",
    "print(E)\n",
    "C[0]=-1\n",
    "print(C)\n",
    "print(D)\n",
    "print(E)"
   ]
  },
  {
   "cell_type": "markdown",
   "id": "7cc51035",
   "metadata": {},
   "source": [
    "### Dictionaries"
   ]
  },
  {
   "cell_type": "code",
   "execution_count": 24,
   "id": "b276f9ed",
   "metadata": {},
   "outputs": [
    {
     "name": "stdout",
     "output_type": "stream",
     "text": [
      "{'key1': 'val1', 'key2': 'val2', 'key3': 'val3'}\n"
     ]
    }
   ],
   "source": [
    "D1={'key1':'val1','key2':'val2','key3':'val3'}\n",
    "print(D1)"
   ]
  },
  {
   "cell_type": "code",
   "execution_count": 14,
   "id": "2ba87cee",
   "metadata": {},
   "outputs": [
    {
     "name": "stdout",
     "output_type": "stream",
     "text": [
      "{'A': 3}\n"
     ]
    }
   ],
   "source": [
    "D2={'A':1,'B':2}\n",
    "D2['A']=3\n",
    "del(D2['B'])\n",
    "print(D2)"
   ]
  },
  {
   "cell_type": "code",
   "execution_count": 15,
   "id": "0324935e",
   "metadata": {},
   "outputs": [
    {
     "name": "stdout",
     "output_type": "stream",
     "text": [
      "dict_keys(['green', 'red'])\n",
      "dict_values(['vert', 'noir'])\n"
     ]
    }
   ],
   "source": [
    "D3={'green':'vert','red':'noir'}\n",
    "print(D3.keys())\n",
    "print(D3.values())"
   ]
  },
  {
   "cell_type": "markdown",
   "id": "15aa4baa",
   "metadata": {},
   "source": [
    "### sets"
   ]
  },
  {
   "cell_type": "markdown",
   "id": "1ba54507",
   "metadata": {},
   "source": [
    "### sets only have unique elements"
   ]
  },
  {
   "cell_type": "code",
   "execution_count": 17,
   "id": "ececca94",
   "metadata": {},
   "outputs": [
    {
     "name": "stdout",
     "output_type": "stream",
     "text": [
      "{'a', 'b', 'c', 'd'}\n"
     ]
    }
   ],
   "source": [
    "set1={'a','b','c','d'}\n",
    "print(set1)"
   ]
  },
  {
   "cell_type": "code",
   "execution_count": 1,
   "id": "02788c86",
   "metadata": {},
   "outputs": [
    {
     "name": "stdout",
     "output_type": "stream",
     "text": [
      "['hello', 'world']\n",
      "{'world', 'hello'}\n",
      "--------------------------------------------------\n",
      "{'world', 'hello', '!'}\n",
      "---------------------------------------------------\n",
      "{'world', 'hello'}\n"
     ]
    }
   ],
   "source": [
    "#convert list to set\n",
    "list1=['hello','world']\n",
    "set1=set(list1)\n",
    "print(list1)\n",
    "print(set1)\n",
    "print('--------------------------------------------------')\n",
    "set1.add('!')\n",
    "print(set1)\n",
    "print('---------------------------------------------------')\n",
    "set1.remove('!')\n",
    "print(set1)"
   ]
  },
  {
   "cell_type": "code",
   "execution_count": 24,
   "id": "52527bbd",
   "metadata": {},
   "outputs": [
    {
     "name": "stdout",
     "output_type": "stream",
     "text": [
      "{'a', 1, 2}\n"
     ]
    },
    {
     "data": {
      "text/plain": [
       "True"
      ]
     },
     "execution_count": 24,
     "metadata": {},
     "output_type": "execute_result"
    }
   ],
   "source": [
    "set3={'a',1,2,1}\n",
    "print(set3)\n",
    "2 in set3"
   ]
  },
  {
   "cell_type": "code",
   "execution_count": 27,
   "id": "73df4bf1",
   "metadata": {},
   "outputs": [
    {
     "name": "stdout",
     "output_type": "stream",
     "text": [
      "{1, 2}\n",
      "{1, 2, 3, 4, 5}\n",
      "True\n"
     ]
    }
   ],
   "source": [
    "a={1,2,3}\n",
    "b={1,2,3,4}\n",
    "c={1,2,5}\n",
    "print(b & c)\n",
    "print(b.union(c))\n",
    "print(a.issubset(b))"
   ]
  },
  {
   "cell_type": "code",
   "execution_count": 1,
   "id": "e698cc11",
   "metadata": {},
   "outputs": [
    {
     "ename": "SyntaxError",
     "evalue": "invalid syntax (260454802.py, line 2)",
     "output_type": "error",
     "traceback": [
      "\u001b[1;36m  Input \u001b[1;32mIn [1]\u001b[1;36m\u001b[0m\n\u001b[1;33m    def __init__(self,i,size,color,price)\u001b[0m\n\u001b[1;37m                                         ^\u001b[0m\n\u001b[1;31mSyntaxError\u001b[0m\u001b[1;31m:\u001b[0m invalid syntax\n"
     ]
    }
   ],
   "source": [
    "class clothes():\n",
    "    def __init__(self,i,size,color,price)\n",
    "    self.i=i\n",
    "    self.size=size\n",
    "    self.color=color\n",
    "    self.price=price\n",
    "    B1=clothes('A','MEDIUM','WHITE',15000)\n",
    "    print(B1.price)"
   ]
  },
  {
   "cell_type": "code",
   "execution_count": 3,
   "id": "22ec51c0",
   "metadata": {},
   "outputs": [
    {
     "ename": "IndentationError",
     "evalue": "expected an indented block (518324188.py, line 3)",
     "output_type": "error",
     "traceback": [
      "\u001b[1;36m  Input \u001b[1;32mIn [3]\u001b[1;36m\u001b[0m\n\u001b[1;33m    self.i=i\u001b[0m\n\u001b[1;37m    ^\u001b[0m\n\u001b[1;31mIndentationError\u001b[0m\u001b[1;31m:\u001b[0m expected an indented block\n"
     ]
    }
   ],
   "source": [
    "class clothes():\n",
    "    def __init__(self,i,size,color,price):\n",
    "    self.i=i\n",
    "    self.size=size\n",
    "    self.color=color\n",
    "    self.price=price\n",
    "    B1=clothes('A','MEDIUM','WHITE',15000)\n",
    "    print(B1.price)"
   ]
  },
  {
   "cell_type": "code",
   "execution_count": 7,
   "id": "e3971f15",
   "metadata": {},
   "outputs": [
    {
     "name": "stdout",
     "output_type": "stream",
     "text": [
      "15000\n"
     ]
    }
   ],
   "source": [
    "class clothes():\n",
    "    def __init__(self,i,size,color,price):\n",
    "        self.i=i\n",
    "        self.size=size\n",
    "        self.color=color\n",
    "        self.price=price\n",
    "    \n",
    "    \n",
    "B1=clothes('A','MEDIUM','WHITE',15000)\n",
    "print(B1.price)"
   ]
  },
  {
   "cell_type": "code",
   "execution_count": null,
   "id": "4632a319",
   "metadata": {},
   "outputs": [],
   "source": []
  }
 ],
 "metadata": {
  "kernelspec": {
   "display_name": "Python 3 (ipykernel)",
   "language": "python",
   "name": "python3"
  },
  "language_info": {
   "codemirror_mode": {
    "name": "ipython",
    "version": 3
   },
   "file_extension": ".py",
   "mimetype": "text/x-python",
   "name": "python",
   "nbconvert_exporter": "python",
   "pygments_lexer": "ipython3",
   "version": "3.9.10"
  }
 },
 "nbformat": 4,
 "nbformat_minor": 5
}
