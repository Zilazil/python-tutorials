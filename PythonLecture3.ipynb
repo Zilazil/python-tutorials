{
 "cells": [
  {
   "cell_type": "markdown",
   "id": "516aa094",
   "metadata": {},
   "source": [
    "# Python Course /AI Club/ Syrian Computer Society"
   ]
  },
  {
   "cell_type": "markdown",
   "id": "61b8102a",
   "metadata": {},
   "source": [
    "## comparison operators"
   ]
  },
  {
   "cell_type": "code",
   "execution_count": 1,
   "id": "2b0b0928",
   "metadata": {},
   "outputs": [
    {
     "name": "stdout",
     "output_type": "stream",
     "text": [
      "False\n"
     ]
    }
   ],
   "source": [
    "a=5\n",
    "print(a==10)"
   ]
  },
  {
   "cell_type": "code",
   "execution_count": 2,
   "id": "6043dc2f",
   "metadata": {},
   "outputs": [
    {
     "name": "stdout",
     "output_type": "stream",
     "text": [
      "False\n"
     ]
    }
   ],
   "source": [
    "print(a<5)"
   ]
  },
  {
   "cell_type": "code",
   "execution_count": 3,
   "id": "0aa08fa6",
   "metadata": {},
   "outputs": [
    {
     "name": "stdout",
     "output_type": "stream",
     "text": [
      "False\n"
     ]
    }
   ],
   "source": [
    "print(a>7)"
   ]
  },
  {
   "cell_type": "code",
   "execution_count": 4,
   "id": "8820e93d",
   "metadata": {},
   "outputs": [
    {
     "name": "stdout",
     "output_type": "stream",
     "text": [
      "True\n"
     ]
    }
   ],
   "source": [
    "print(a<10)"
   ]
  },
  {
   "cell_type": "code",
   "execution_count": 5,
   "id": "1ac07abd",
   "metadata": {},
   "outputs": [
    {
     "name": "stdout",
     "output_type": "stream",
     "text": [
      "True\n"
     ]
    }
   ],
   "source": [
    "print(a!=0)"
   ]
  },
  {
   "cell_type": "markdown",
   "id": "74c641eb",
   "metadata": {},
   "source": [
    "## Branching"
   ]
  },
  {
   "cell_type": "markdown",
   "id": "92af2759",
   "metadata": {},
   "source": [
    "### Branching allows us to run different statements for a different input"
   ]
  },
  {
   "cell_type": "code",
   "execution_count": 9,
   "id": "2f86c10f",
   "metadata": {},
   "outputs": [
    {
     "name": "stdout",
     "output_type": "stream",
     "text": [
      "enter your age please\n",
      "23\n",
      "enter your university name please\n",
      "tishreen\n",
      "welcome\n"
     ]
    }
   ],
   "source": [
    "print('enter your age please')\n",
    "age=int(input())\n",
    "if (age>=18):\n",
    "    print('enter your university name please')\n",
    "else:\n",
    "    print('enter your school name please')\n",
    "name=str(input())\n",
    "print('welcome')"
   ]
  },
  {
   "cell_type": "code",
   "execution_count": 11,
   "id": "f8c16d6f",
   "metadata": {},
   "outputs": [
    {
     "name": "stdout",
     "output_type": "stream",
     "text": [
      "6\n",
      "final case\n"
     ]
    }
   ],
   "source": [
    "x=int(input())\n",
    "if(x==0):\n",
    "    print('you entered:',x)\n",
    "elif(x==1):\n",
    "    print('you entered:',x)\n",
    "else:\n",
    "    print('final case')"
   ]
  },
  {
   "cell_type": "markdown",
   "id": "c14c3933",
   "metadata": {},
   "source": [
    "## logic operators"
   ]
  },
  {
   "cell_type": "code",
   "execution_count": 12,
   "id": "1b7c0bad",
   "metadata": {},
   "outputs": [
    {
     "name": "stdout",
     "output_type": "stream",
     "text": [
      "False\n"
     ]
    }
   ],
   "source": [
    "A=True\n",
    "print(not(A))"
   ]
  },
  {
   "cell_type": "code",
   "execution_count": 15,
   "id": "e83d95e0",
   "metadata": {},
   "outputs": [
    {
     "name": "stdout",
     "output_type": "stream",
     "text": [
      "True\n"
     ]
    }
   ],
   "source": [
    "C=True\n",
    "D=False\n",
    "print(C or D)"
   ]
  },
  {
   "cell_type": "code",
   "execution_count": 16,
   "id": "ddd4562e",
   "metadata": {},
   "outputs": [
    {
     "name": "stdout",
     "output_type": "stream",
     "text": [
      "False\n"
     ]
    }
   ],
   "source": [
    "C=True\n",
    "D=False\n",
    "print(C and D)"
   ]
  },
  {
   "cell_type": "markdown",
   "id": "7d3ed689",
   "metadata": {},
   "source": [
    "### simple calculator"
   ]
  },
  {
   "cell_type": "code",
   "execution_count": 29,
   "id": "6c7c7569",
   "metadata": {},
   "outputs": [
    {
     "name": "stdout",
     "output_type": "stream",
     "text": [
      "please enter numbers\n",
      "9\n",
      "4\n",
      "/\n",
      "x/y= 2.25\n"
     ]
    }
   ],
   "source": [
    "print('please enter numbers')\n",
    "x=int(input())\n",
    "y=int(input())\n",
    "operator=str(input())\n",
    "if (operator=='*'):\n",
    "    print('x*y=',x*y) \n",
    "elif (operator=='/'):\n",
    "    print('x/y=',x/y)\n",
    "elif (operator=='+'):\n",
    "    print('x+y=',x+y)\n",
    "elif (operator=='-'):\n",
    "    print('x-y=',x-y)\n",
    "else:\n",
    "    print('unexpected operator')"
   ]
  },
  {
   "cell_type": "code",
   "execution_count": 31,
   "id": "a9800e8c",
   "metadata": {},
   "outputs": [
    {
     "name": "stdout",
     "output_type": "stream",
     "text": [
      "3\n",
      "2\n",
      "done\n"
     ]
    }
   ],
   "source": [
    "a=int(input())\n",
    "b=int(input())\n",
    "if (a<5) and (b<5):\n",
    "    print('done')"
   ]
  },
  {
   "cell_type": "code",
   "execution_count": 32,
   "id": "8c5729a1",
   "metadata": {},
   "outputs": [
    {
     "name": "stdout",
     "output_type": "stream",
     "text": [
      "1\n",
      "9\n"
     ]
    }
   ],
   "source": [
    "a=int(input())\n",
    "b=int(input())\n",
    "if (a<5) and (b<5):\n",
    "    print('done')"
   ]
  },
  {
   "cell_type": "markdown",
   "id": "9a6b9fec",
   "metadata": {},
   "source": [
    "### loops"
   ]
  },
  {
   "cell_type": "code",
   "execution_count": 33,
   "id": "6cc1cfcb",
   "metadata": {},
   "outputs": [
    {
     "name": "stdout",
     "output_type": "stream",
     "text": [
      "['black', 'black', 'black', 'black']\n"
     ]
    }
   ],
   "source": [
    "colours=['red','green','blue','white']\n",
    "for i in range(0,4):\n",
    "    colours[i]='black'\n",
    "print(colours)"
   ]
  },
  {
   "cell_type": "code",
   "execution_count": 37,
   "id": "1f6236bd",
   "metadata": {},
   "outputs": [
    {
     "name": "stdout",
     "output_type": "stream",
     "text": [
      "0 black\n",
      "1 black\n",
      "2 black\n",
      "3 black\n"
     ]
    }
   ],
   "source": [
    "colours=['red','green','blue','white']\n",
    "for i,j in enumerate(colours):\n",
    "    j='black'\n",
    "    print(i,j)"
   ]
  },
  {
   "cell_type": "markdown",
   "id": "c776a061",
   "metadata": {},
   "source": [
    "## functions"
   ]
  },
  {
   "cell_type": "code",
   "execution_count": 41,
   "id": "47226b28",
   "metadata": {},
   "outputs": [
    {
     "name": "stdout",
     "output_type": "stream",
     "text": [
      "input numbers to add\n",
      "4\n",
      "8\n",
      "12\n"
     ]
    }
   ],
   "source": [
    "def add(x,y):\n",
    "    output=x+y\n",
    "    return (output)\n",
    "print('input numbers to add')\n",
    "a=int(input())\n",
    "b=int(input())\n",
    "print(add(a,b))"
   ]
  },
  {
   "cell_type": "markdown",
   "id": "55697916",
   "metadata": {},
   "source": [
    "### assignment1"
   ]
  },
  {
   "cell_type": "markdown",
   "id": "df3766d3",
   "metadata": {},
   "source": [
    "### try to build a function  that counts  each color in the following list"
   ]
  },
  {
   "cell_type": "markdown",
   "id": "39338fdc",
   "metadata": {},
   "source": [
    "list=['green','red','red','blue','red','purple','green','red']"
   ]
  },
  {
   "cell_type": "markdown",
   "id": "69bd34c3",
   "metadata": {},
   "source": [
    "### answer"
   ]
  },
  {
   "cell_type": "code",
   "execution_count": null,
   "id": "28eb86d5",
   "metadata": {},
   "outputs": [],
   "source": [
    "\n",
    "        \n",
    "    "
   ]
  },
  {
   "cell_type": "markdown",
   "id": "254d5747",
   "metadata": {},
   "source": [
    "### collecting arguments"
   ]
  },
  {
   "cell_type": "code",
   "execution_count": 16,
   "id": "549387b1",
   "metadata": {},
   "outputs": [
    {
     "name": "stdout",
     "output_type": "stream",
     "text": [
      "aya\n",
      "tala\n",
      "sami\n",
      "maram\n"
     ]
    }
   ],
   "source": [
    "def f(names):\n",
    "    for name in names:\n",
    "        print(name)\n",
    "a=['aya','tala','sami','maram']\n",
    "f(a)"
   ]
  },
  {
   "cell_type": "code",
   "execution_count": 21,
   "id": "cf5e9cc0",
   "metadata": {},
   "outputs": [
    {
     "name": "stdout",
     "output_type": "stream",
     "text": [
      "aya tala sami maram\n"
     ]
    }
   ],
   "source": [
    "x=['aya','tala','sami','maram']\n",
    "print(*x)"
   ]
  },
  {
   "cell_type": "markdown",
   "id": "f391a9c3",
   "metadata": {},
   "source": [
    "## local and global scope"
   ]
  },
  {
   "cell_type": "markdown",
   "id": "a96157ca",
   "metadata": {},
   "source": [
    "### the scope of the variable is the part of program where the variable is accessible\n",
    "### variables that are defined outside of any function are said to be global scope and they can be accessed anywhere  after they defined"
   ]
  },
  {
   "cell_type": "markdown",
   "id": "febee7f3",
   "metadata": {},
   "source": [
    "### local variables only exist within the scope of a function "
   ]
  },
  {
   "cell_type": "markdown",
   "id": "fc9f78ad",
   "metadata": {},
   "source": [
    "### variables inside the global scope can have the same name as variables in the local scope with no conflict"
   ]
  },
  {
   "cell_type": "code",
   "execution_count": 25,
   "id": "57703479",
   "metadata": {},
   "outputs": [
    {
     "name": "stdout",
     "output_type": "stream",
     "text": [
      "hi everyone\n"
     ]
    }
   ],
   "source": [
    "def add(x):\n",
    "    output=x+' everyone' # output variable is a local variable\n",
    "    return (output)\n",
    "x='hi' # x variable is a global variable\n",
    "print(add(x))"
   ]
  },
  {
   "cell_type": "code",
   "execution_count": 26,
   "id": "4cc1af3f",
   "metadata": {},
   "outputs": [
    {
     "name": "stdout",
     "output_type": "stream",
     "text": [
      "2002\n",
      "1998\n"
     ]
    }
   ],
   "source": [
    "def date():\n",
    "    year=1998\n",
    "    return(year)\n",
    "year=2002\n",
    "print(year)\n",
    "print(date())"
   ]
  },
  {
   "cell_type": "markdown",
   "id": "7694c060",
   "metadata": {},
   "source": [
    "### let the local variable  be   global"
   ]
  },
  {
   "cell_type": "code",
   "execution_count": 2,
   "id": "4c06956a",
   "metadata": {},
   "outputs": [
    {
     "name": "stdout",
     "output_type": "stream",
     "text": [
      "green\n"
     ]
    }
   ],
   "source": [
    "def function1():\n",
    "    global color\n",
    "    color='green'\n",
    "    return (color)\n",
    "function1()\n",
    "print(color)\n"
   ]
  },
  {
   "cell_type": "markdown",
   "id": "cc671e73",
   "metadata": {},
   "source": [
    "## objects and classes"
   ]
  },
  {
   "cell_type": "markdown",
   "id": "b46ebd1a",
   "metadata": {},
   "source": [
    "### in python, each of data types is object\n",
    "### every object has: a type\n",
    "### methods : set of procedures for interacting with the object"
   ]
  },
  {
   "cell_type": "code",
   "execution_count": 3,
   "id": "24fcf824",
   "metadata": {},
   "outputs": [
    {
     "data": {
      "text/plain": [
       "list"
      ]
     },
     "execution_count": 3,
     "metadata": {},
     "output_type": "execute_result"
    }
   ],
   "source": [
    "type([1,2,3,4])"
   ]
  },
  {
   "cell_type": "code",
   "execution_count": 4,
   "id": "c0cbe1bf",
   "metadata": {},
   "outputs": [
    {
     "data": {
      "text/plain": [
       "set"
      ]
     },
     "execution_count": 4,
     "metadata": {},
     "output_type": "execute_result"
    }
   ],
   "source": [
    "type({1,2,3,4})"
   ]
  },
  {
   "cell_type": "code",
   "execution_count": 5,
   "id": "f0563d23",
   "metadata": {},
   "outputs": [
    {
     "data": {
      "text/plain": [
       "dict"
      ]
     },
     "execution_count": 5,
     "metadata": {},
     "output_type": "execute_result"
    }
   ],
   "source": [
    "type({'a':1,'b':2})"
   ]
  },
  {
   "cell_type": "code",
   "execution_count": 16,
   "id": "57a6712e",
   "metadata": {},
   "outputs": [
    {
     "name": "stdout",
     "output_type": "stream",
     "text": [
      "HELLO\n"
     ]
    }
   ],
   "source": [
    "a='hello'\n",
    "print(a.upper()) #upper is a method"
   ]
  },
  {
   "cell_type": "code",
   "execution_count": 19,
   "id": "b1265c8e",
   "metadata": {},
   "outputs": [
    {
     "name": "stdout",
     "output_type": "stream",
     "text": [
      "blonde\n"
     ]
    }
   ],
   "source": [
    "class hair:\n",
    "    def __init__(self,name,length,color,hair_type):\n",
    "        self.name=name\n",
    "        self.length=length\n",
    "        self.color=color\n",
    "        self.hair_type=hair_type\n",
    "Maya=hair(\"Maya\",\"long\",\"blonde\",\"straight\")\n",
    "Sawsan=hair(\"Sawasan\",\"short\",\"black\",\"straight\")\n",
    "print(Maya.color)\n"
   ]
  },
  {
   "cell_type": "code",
   "execution_count": 22,
   "id": "974f277c",
   "metadata": {},
   "outputs": [
    {
     "name": "stdout",
     "output_type": "stream",
     "text": [
      "2\n"
     ]
    }
   ],
   "source": [
    "class circle:\n",
    "    def __init__(self,x,y,r):\n",
    "        self.x=x\n",
    "        self.y=y\n",
    "        self.r=r\n",
    "c1=circle(4,4,2)\n",
    "c2=circle(2,6,2)\n",
    "c3=circle(1,1,0.5)\n",
    "print(c1.r)"
   ]
  },
  {
   "cell_type": "code",
   "execution_count": 43,
   "id": "4a3a44c3",
   "metadata": {},
   "outputs": [
    {
     "name": "stdout",
     "output_type": "stream",
     "text": [
      "3 3\n"
     ]
    }
   ],
   "source": [
    "class circle:\n",
    "    def __init__(self,x,y,r):\n",
    "        self.x=x\n",
    "        self.y=y\n",
    "        self.r=r\n",
    "    def add(self,d):\n",
    "        self.x=self.x+d #method used to add d to x\n",
    "        self.y=self.y+d #method used to add d to y\n",
    "c1=circle(2,2,1)\n",
    "c1.add(1)\n",
    "print(c1.x,c1.y)"
   ]
  },
  {
   "cell_type": "code",
   "execution_count": 57,
   "id": "55b54f27",
   "metadata": {},
   "outputs": [
    {
     "name": "stdout",
     "output_type": "stream",
     "text": [
      "45000.0\n"
     ]
    }
   ],
   "source": [
    "class clothes():\n",
    "    def __init__(self,i,size,color,price):\n",
    "        self.i=i\n",
    "        self.size=size\n",
    "        self.color=color\n",
    "        self.price=price\n",
    "    def discount(self,r):\n",
    "        self.price=(self.price)-((r/100)*(self.price)) \n",
    "t_shirt1=clothes(1,'medium','white',50000)\n",
    "t_shirt2=clothes(2,'medium','red',20000)\n",
    "t_shirt3=clothes(3,'medium','white',20000)\n",
    "t_shirt4=clothes(4,'large','pink',30000)\n",
    "t_shirt5=clothes(5,'small','purple',60000)\n",
    "t_shirt1.price\n",
    "t_shirt1.discount(10)\n",
    "print(t_shirt1.price)"
   ]
  },
  {
   "cell_type": "code",
   "execution_count": null,
   "id": "a298d85e",
   "metadata": {},
   "outputs": [],
   "source": []
  }
 ],
 "metadata": {
  "kernelspec": {
   "display_name": "Python 3 (ipykernel)",
   "language": "python",
   "name": "python3"
  },
  "language_info": {
   "codemirror_mode": {
    "name": "ipython",
    "version": 3
   },
   "file_extension": ".py",
   "mimetype": "text/x-python",
   "name": "python",
   "nbconvert_exporter": "python",
   "pygments_lexer": "ipython3",
   "version": "3.9.10"
  }
 },
 "nbformat": 4,
 "nbformat_minor": 5
}
