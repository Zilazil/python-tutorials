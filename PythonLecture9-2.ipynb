{
 "cells": [
  {
   "cell_type": "code",
   "execution_count": 5,
   "id": "82ead4d0",
   "metadata": {},
   "outputs": [],
   "source": [
    "from tkinter import *\n",
    "from tkinter import messagebox"
   ]
  },
  {
   "cell_type": "code",
   "execution_count": 7,
   "id": "bbf907e3",
   "metadata": {},
   "outputs": [
    {
     "name": "stdout",
     "output_type": "stream",
     "text": [
      "category option2\n",
      "category option1\n"
     ]
    }
   ],
   "source": [
    "pro=Tk()\n",
    "pro.geometry('900x700')\n",
    "pro.configure(bg='blue')\n",
    "#make a frame\n",
    "F1=Frame(pro,width=225,height=700,bg='white')\n",
    "F1.place(x=0,y=37)\n",
    "title=Label(pro,text='this is frame1',fg='purple',bg='white',font=('tajawal',16,'bold'))\n",
    "title.place(x=40,y=50)\n",
    "#####################################################################################################\n",
    "title=Label(pro,text='my first GUI',fg='purple',bg='blue',font=('tajawal',16,'bold'))\n",
    "title.place(x=400,y=37)\n",
    "#####################################################################################################\n",
    "###make combobox\n",
    "from tkinter.ttk import Combobox\n",
    "val=None\n",
    "a=(\"option1\",\"option2\",\"option3\")\n",
    "class Test:\n",
    "    def __init__(self, tk):\n",
    "        self.var = StringVar()\n",
    "        self.data1 =a\n",
    "        self.cb1 = Combobox(tk, values=self.data1)\n",
    "        self.cb1.place(x=300, y=200)\n",
    "        ###button\n",
    "        self.b3 = Button(tk, text=\"click\",bg='purple',fg='white',font=('tajawal',12,'bold'),command=self.select).place(x=300, y=300)\n",
    "    def select(self):\n",
    "        val= self.cb1.get()\n",
    "        if val!=None:\n",
    "            messagebox.showinfo(\"notation\", \"You selected \" + val)\n",
    "            print('category',val)\n",
    "           # val11=val\n",
    "            val=None\n",
    "tt = Test(pro)\n",
    "\n",
    "pro.mainloop()"
   ]
  },
  {
   "cell_type": "code",
   "execution_count": null,
   "id": "357f9ce6",
   "metadata": {},
   "outputs": [],
   "source": []
  },
  {
   "cell_type": "code",
   "execution_count": null,
   "id": "c85a7013",
   "metadata": {},
   "outputs": [],
   "source": []
  }
 ],
 "metadata": {
  "kernelspec": {
   "display_name": "Python 3 (ipykernel)",
   "language": "python",
   "name": "python3"
  },
  "language_info": {
   "codemirror_mode": {
    "name": "ipython",
    "version": 3
   },
   "file_extension": ".py",
   "mimetype": "text/x-python",
   "name": "python",
   "nbconvert_exporter": "python",
   "pygments_lexer": "ipython3",
   "version": "3.9.10"
  }
 },
 "nbformat": 4,
 "nbformat_minor": 5
}
