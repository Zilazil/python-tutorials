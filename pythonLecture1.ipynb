{
 "cells": [
  {
   "cell_type": "markdown",
   "id": "a66fd362",
   "metadata": {},
   "source": [
    "# First lecture\n",
    "# Python Course / AI CLUB / Syrian Computer Society"
   ]
  },
  {
   "cell_type": "markdown",
   "id": "ffd3a77e",
   "metadata": {},
   "source": [
    "### primitive data types"
   ]
  },
  {
   "cell_type": "code",
   "execution_count": 5,
   "id": "063e980c",
   "metadata": {},
   "outputs": [
    {
     "name": "stdout",
     "output_type": "stream",
     "text": [
      "<class 'int'>\n",
      "<class 'float'>\n",
      "<class 'int'>\n",
      "<class 'bool'>\n",
      "<class 'bool'>\n",
      "<class 'str'>\n",
      "<class 'str'>\n",
      "<class 'str'>\n"
     ]
    }
   ],
   "source": [
    "print(type(0))\n",
    "print(type(0.6))\n",
    "print(type(-4))\n",
    "print(type(True))\n",
    "print(type(False))\n",
    "print(type('hello'))\n",
    "print(type('b'))\n",
    "print(type(\"python\"))"
   ]
  },
  {
   "cell_type": "markdown",
   "id": "1b2e0495",
   "metadata": {},
   "source": [
    "### type casting"
   ]
  },
  {
   "cell_type": "code",
   "execution_count": 1,
   "id": "2d8b309b",
   "metadata": {},
   "outputs": [
    {
     "name": "stdout",
     "output_type": "stream",
     "text": [
      "5.0\n",
      "2\n",
      "False\n",
      "6\n"
     ]
    }
   ],
   "source": [
    "print(float(5))\n",
    "print(int(2.6))\n",
    "print(bool(0))\n",
    "print(str(6))"
   ]
  },
  {
   "cell_type": "markdown",
   "id": "86b7ac6a",
   "metadata": {},
   "source": [
    "### expressions"
   ]
  },
  {
   "cell_type": "code",
   "execution_count": 6,
   "id": "f9f9f4c5",
   "metadata": {},
   "outputs": [
    {
     "name": "stdout",
     "output_type": "stream",
     "text": [
      "111\n",
      "25\n",
      "38\n",
      "38\n",
      "5.5\n",
      "5\n"
     ]
    }
   ],
   "source": [
    "print(12+90+9)\n",
    "print(5*5)\n",
    "print(20+3*6)\n",
    "print(3*6+20)\n",
    "print(11/2)\n",
    "print(11//2)"
   ]
  },
  {
   "cell_type": "markdown",
   "id": "07fae1b0",
   "metadata": {},
   "source": [
    "### variables"
   ]
  },
  {
   "cell_type": "code",
   "execution_count": 7,
   "id": "785cb1b1",
   "metadata": {},
   "outputs": [
    {
     "name": "stdout",
     "output_type": "stream",
     "text": [
      "26.666666666666668 26.666666666666668\n"
     ]
    }
   ],
   "source": [
    "x=160\n",
    "y=x/6\n",
    "x=x/6\n",
    "print(y,x)"
   ]
  },
  {
   "cell_type": "markdown",
   "id": "8e8270d4",
   "metadata": {},
   "source": [
    "### string operations"
   ]
  },
  {
   "cell_type": "code",
   "execution_count": 5,
   "id": "57e0d903",
   "metadata": {},
   "outputs": [
    {
     "name": "stdout",
     "output_type": "stream",
     "text": [
      "j\n",
      "l\n",
      "e\n",
      "n\n",
      "jul\n",
      "ia \n",
      "jisn\n",
      "11\n"
     ]
    }
   ],
   "source": [
    "name=\"julia stone\"\n",
    "print(name[0])\n",
    "print(name[2])\n",
    "print(name[-1])\n",
    "print(name[-2])\n",
    "print(name[0:3])\n",
    "print(name[3:6])\n",
    "print(name[::3])\n",
    "print(len(name))"
   ]
  },
  {
   "cell_type": "markdown",
   "id": "2811cc8c",
   "metadata": {},
   "source": [
    "### combining strings and strings methods"
   ]
  },
  {
   "cell_type": "code",
   "execution_count": 12,
   "id": "1d18f0f4",
   "metadata": {},
   "outputs": [
    {
     "name": "stdout",
     "output_type": "stream",
     "text": [
      "Reema is a singer\n",
      "REEMA\n",
      "reema is a actor\n",
      "2\n"
     ]
    }
   ],
   "source": [
    "name=\"Reema\"\n",
    "print(name+\" is a singer\")\n",
    "print(name.upper())\n",
    "sentence=\"reema is a singer\"\n",
    "print(sentence.replace('singer','actor'))\n",
    "print(name.find('em'))"
   ]
  },
  {
   "cell_type": "markdown",
   "id": "6b88e187",
   "metadata": {},
   "source": [
    "#### Tuples"
   ]
  },
  {
   "cell_type": "code",
   "execution_count": 7,
   "id": "8f6f820a",
   "metadata": {},
   "outputs": [
    {
     "name": "stdout",
     "output_type": "stream",
     "text": [
      "(1, 0, 'my first lecture', True)\n",
      "--------------------------------------\n",
      "('blue', 'green', 'red', 'white', 'yellow')\n",
      "--------------------------------------\n",
      "('blue', 'green')\n",
      "3\n",
      "--------------------------------------\n",
      "(2, 'hi', (2, '13'))\n",
      "2\n",
      "hi\n",
      "(2, '13')\n",
      "13\n"
     ]
    }
   ],
   "source": [
    "my_tuple=(1,0,'my first lecture',True)\n",
    "print(my_tuple)\n",
    "print('--------------------------------------')\n",
    "tuple1=('blue','green','red')\n",
    "print(tuple1+('white','yellow'))\n",
    "print('--------------------------------------')\n",
    "print(tuple1[0:2])\n",
    "print(len(tuple1))\n",
    "print('--------------------------------------')\n",
    "tuple3=(2,'hi',(2,'13'))#nested tuple\n",
    "print(tuple3)\n",
    "print(tuple3[0])\n",
    "print(tuple3[1])\n",
    "print(tuple3[2])\n",
    "print(tuple3[2][1])"
   ]
  },
  {
   "cell_type": "code",
   "execution_count": 4,
   "id": "be0aa09e",
   "metadata": {},
   "outputs": [
    {
     "name": "stdout",
     "output_type": "stream",
     "text": [
      "1\n",
      "2\n",
      "3\n"
     ]
    }
   ],
   "source": [
    "x=int(input())\n",
    "y=int(input())\n",
    "print(x+y)"
   ]
  },
  {
   "cell_type": "code",
   "execution_count": null,
   "id": "61acdb67",
   "metadata": {},
   "outputs": [],
   "source": []
  }
 ],
 "metadata": {
  "kernelspec": {
   "display_name": "Python 3 (ipykernel)",
   "language": "python",
   "name": "python3"
  },
  "language_info": {
   "codemirror_mode": {
    "name": "ipython",
    "version": 3
   },
   "file_extension": ".py",
   "mimetype": "text/x-python",
   "name": "python",
   "nbconvert_exporter": "python",
   "pygments_lexer": "ipython3",
   "version": "3.9.10"
  }
 },
 "nbformat": 4,
 "nbformat_minor": 5
}
